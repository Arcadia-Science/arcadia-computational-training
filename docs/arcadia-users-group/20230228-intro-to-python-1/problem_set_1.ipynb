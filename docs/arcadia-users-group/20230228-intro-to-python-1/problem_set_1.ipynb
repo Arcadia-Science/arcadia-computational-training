{
 "cells": [
  {
   "cell_type": "markdown",
   "id": "2c08df7c-86a5-430c-95a3-a90719c3f81d",
   "metadata": {},
   "source": [
    "# Introduction to Python, Part 1\n",
    "\n",
    "---\n",
    "## 0. Fundamentals of Python - Problem Set\n",
    "\n",
    "Let's work through some problems to help you understand basic Python data types and functions.  \n",
    "We'll also cover some additional operands and built-in functions that you might find useful.\n",
    "\n",
    "---\n",
    "### Problem 1. \n",
    "\n",
    "Write a function `calculate_dilution()` that takes three parameters:\n",
    "- `m1`: the concentration of the original solution.\n",
    "- `v2`: the volume of the original solution.\n",
    "- `m2`: the desired concentration of the final solution.\n",
    "\n",
    "The function should return how much volume of the original solution is needed to yield the correct final concentration."
   ]
  },
  {
   "cell_type": "code",
   "execution_count": 15,
   "id": "673e9194-7193-4e42-a28c-8a9bf5b06f53",
   "metadata": {},
   "outputs": [
    {
     "data": {
      "text/plain": [
       "0.15"
      ]
     },
     "execution_count": 15,
     "metadata": {},
     "output_type": "execute_result"
    }
   ],
   "source": [
    "###############################################\n",
    "### Write your function in the space below. ###\n",
    "#### Then run the cell to check your work. ####\n",
    "\n",
    "\n",
    "\n",
    "###############################################\n",
    "\n",
    "mass1 = 10\n",
    "volume2 = 3\n",
    "mass2 = 0.5\n",
    "\n",
    "calculate_dilution(mass1, volume2, mass2)"
   ]
  },
  {
   "cell_type": "markdown",
   "id": "44d2b93c-f0c0-401f-af52-8ac687c8ffd3",
   "metadata": {},
   "source": [
    "---\n",
    "### Problem 2.\n",
    "\n",
    "Write a function `F_to_C()` that takes an `int` or `float` representing temperature in Fahrenheit and converts it to Celsius.  \n",
    "The function should return a `str` with the following format:\n",
    "\n",
    "- `'{input_temperature} degrees Fahrenheit is equivalent to {output_temperature} degrees Celsius.'`\n",
    "- `input_temperature` and `output_temperature` are both displayed with decimal signs."
   ]
  },
  {
   "cell_type": "code",
   "execution_count": 16,
   "id": "2c06889e-0ab9-4fa2-9c73-93f543794f46",
   "metadata": {},
   "outputs": [
    {
     "data": {
      "text/plain": [
       "'32.0 degrees Fahrenheit is equivalent to 0.0 degrees Celsius.'"
      ]
     },
     "execution_count": 16,
     "metadata": {},
     "output_type": "execute_result"
    }
   ],
   "source": [
    "###############################################\n",
    "### Write your function in the space below. ###\n",
    "#### Then run the cell to check your work. ####\n",
    "\n",
    "\n",
    "\n",
    "###############################################\n",
    "\n",
    "F_to_C(32)"
   ]
  },
  {
   "cell_type": "markdown",
   "id": "dbe8722f-31fe-46dd-9563-ba4c1e08e1f7",
   "metadata": {},
   "source": [
    "---\n",
    "### Problem 3.\n",
    "\n",
    "Take a look at the function `factor()` below.  \n",
    "Rewrite the function so that it fits in less than 6 lines (excluding the **`def`** statement) but has the same functionality."
   ]
  },
  {
   "cell_type": "code",
   "execution_count": 17,
   "id": "57eb5feb-5040-4678-844c-f100f82436eb",
   "metadata": {},
   "outputs": [
    {
     "data": {
      "text/plain": [
       "(15.0, -22.0)"
      ]
     },
     "execution_count": 17,
     "metadata": {},
     "output_type": "execute_result"
    }
   ],
   "source": [
    "###############################################\n",
    "### Write your function in the space below. ###\n",
    "#### Then run the cell to check your work. ####\n",
    "\n",
    "def factor(a, b, c):\n",
    "    step_one = -1 * b\n",
    "    step_q = 4 * a * c\n",
    "    step_two_a = step_one + (b ** 2 - step_q)\n",
    "    step_two_b = step_one - (b ** 2 - step_q)\n",
    "    step_p = 2 * a\n",
    "    step_three_a = step_two_a / step_p\n",
    "    step_three_b = step_two_b / step_p\n",
    "    result = step_three_a, step_three_b\n",
    "    return result\n",
    "\n",
    "###############################################\n",
    "\n",
    "a = 1\n",
    "b = 7\n",
    "c = 3\n",
    "\n",
    "factor(a, b, c)"
   ]
  },
  {
   "cell_type": "markdown",
   "id": "7f9eaf53-1d20-4084-b4a2-4c7fe31cf3d3",
   "metadata": {},
   "source": [
    "---\n",
    "## More Operands\n",
    "\n",
    "In addition to the operands `+`, `-`, `*`, and `/`, there are others that you might find useful.  \n",
    "For example, the **modulo** operand `%` divides two numbers and gives the remainder."
   ]
  },
  {
   "cell_type": "code",
   "execution_count": 18,
   "id": "46727e2a-e8a4-44af-8a91-427e59c473b8",
   "metadata": {},
   "outputs": [
    {
     "data": {
      "text/plain": [
       "1"
      ]
     },
     "execution_count": 18,
     "metadata": {},
     "output_type": "execute_result"
    }
   ],
   "source": [
    "7 % 2"
   ]
  },
  {
   "cell_type": "markdown",
   "id": "1a145a98-3e91-4cb4-bb30-b05ae516ad84",
   "metadata": {},
   "source": [
    "The floor division operator `//` divides two numbers and rounds down."
   ]
  },
  {
   "cell_type": "code",
   "execution_count": 19,
   "id": "7bf8de3d-a7d4-4bb1-8c5c-394c7bf62f8a",
   "metadata": {},
   "outputs": [
    {
     "data": {
      "text/plain": [
       "3"
      ]
     },
     "execution_count": 19,
     "metadata": {},
     "output_type": "execute_result"
    }
   ],
   "source": [
    "7 // 2"
   ]
  },
  {
   "cell_type": "markdown",
   "id": "dbcaed73-6516-4030-a18d-66acac9fc24e",
   "metadata": {},
   "source": [
    "The exponential operator `**` takes the exponent of the first number by the second number."
   ]
  },
  {
   "cell_type": "code",
   "execution_count": 20,
   "id": "2c64b4de-df8e-4fb8-ad03-a251f94bb19a",
   "metadata": {},
   "outputs": [
    {
     "data": {
      "text/plain": [
       "81"
      ]
     },
     "execution_count": 20,
     "metadata": {},
     "output_type": "execute_result"
    }
   ],
   "source": [
    "9 ** 2"
   ]
  },
  {
   "cell_type": "markdown",
   "id": "cd77e6bb-f77b-4bc0-a048-a04b18aea856",
   "metadata": {},
   "source": [
    "### Combining operands with assignment\n",
    "\n",
    "Sometimes you want to modify a value \"in place\". For example, you might want to add or subtract from a value.  \n",
    "You can chain a standard operand (`+`, `-`, `*`, `/`, `%`, `**`, `//`) with the `=` operand to modify \"in place\"."
   ]
  },
  {
   "cell_type": "code",
   "execution_count": 21,
   "id": "546dbfa5-b1b0-48a3-a63d-436138988fad",
   "metadata": {},
   "outputs": [
    {
     "name": "stdout",
     "output_type": "stream",
     "text": [
      "5\n",
      "6\n",
      "7\n"
     ]
    }
   ],
   "source": [
    "x = 5\n",
    "print(x)\n",
    "\n",
    "x = x + 1  # This statement is equivalent to...\n",
    "print(x)\n",
    "\n",
    "x += 1  # ... this statement\n",
    "print(x)"
   ]
  },
  {
   "cell_type": "markdown",
   "id": "d1a0afc1-884d-414e-aab7-4bbed9a9d330",
   "metadata": {},
   "source": [
    "---\n",
    "## `len()`\n",
    "\n",
    "The built-in function `len()` gives the length of an element, such as below."
   ]
  },
  {
   "cell_type": "code",
   "execution_count": 22,
   "id": "cc456463-7947-402a-9c63-52ee3008a57c",
   "metadata": {},
   "outputs": [
    {
     "data": {
      "text/plain": [
       "9"
      ]
     },
     "execution_count": 22,
     "metadata": {},
     "output_type": "execute_result"
    }
   ],
   "source": [
    "len('pineapple')"
   ]
  },
  {
   "cell_type": "markdown",
   "id": "d5355b03-ccff-435f-a44a-594271ad8da9",
   "metadata": {},
   "source": [
    "`len()` does not work on `int` or `float` data types."
   ]
  },
  {
   "cell_type": "code",
   "execution_count": 23,
   "id": "ebd06ea6-2fa6-4261-8046-033ef0312421",
   "metadata": {},
   "outputs": [
    {
     "ename": "TypeError",
     "evalue": "object of type 'int' has no len()",
     "output_type": "error",
     "traceback": [
      "\u001b[0;31m---------------------------------------------------------------------------\u001b[0m",
      "\u001b[0;31mTypeError\u001b[0m                                 Traceback (most recent call last)",
      "Cell \u001b[0;32mIn[23], line 1\u001b[0m\n\u001b[0;32m----> 1\u001b[0m \u001b[38;5;28;43mlen\u001b[39;49m\u001b[43m(\u001b[49m\u001b[38;5;241;43m5\u001b[39;49m\u001b[43m)\u001b[49m\n",
      "\u001b[0;31mTypeError\u001b[0m: object of type 'int' has no len()"
     ]
    }
   ],
   "source": [
    "len(5)"
   ]
  },
  {
   "cell_type": "markdown",
   "id": "53e03712-d0db-425d-92e5-06d3c881a673",
   "metadata": {},
   "source": [
    "---\n",
    "### Problem 4.\n",
    "\n",
    "Write a function called `char_counter()` with one parameter that accepts `int`, `str`, and `float` and prints according to the following example:\n",
    "\n",
    "`char_counter('bananas')`\n",
    "\n",
    "```\n",
    "HELLO. I AM CHAR_COUNTER. YOU HAVE GIVEN ME THE DATA \"bananas\".\n",
    "...PROCESSING...\n",
    "THERE ARE 7 CHARACTERS IN THE DATA \"bananas\".\n",
    "HAVE A NICE DAY.\n",
    "...\n",
    "```"
   ]
  },
  {
   "cell_type": "code",
   "execution_count": 24,
   "id": "7256c11c-96cd-437b-a51d-d5589c45ad30",
   "metadata": {},
   "outputs": [
    {
     "name": "stdout",
     "output_type": "stream",
     "text": [
      "HELLO. I AM CHAR_COUNTER. YOU HAVE GIVEN ME THE DATA \"bananas\".\n",
      "...PROCESSING...\n",
      "THERE ARE 7 CHARACTERS IN THE DATA \"bananas\".\n",
      "HAVE A NICE DAY.\n",
      "...\n",
      "HELLO. I AM CHAR_COUNTER. YOU HAVE GIVEN ME THE DATA \"12381\".\n",
      "...PROCESSING...\n",
      "THERE ARE 5 CHARACTERS IN THE DATA \"12381\".\n",
      "HAVE A NICE DAY.\n",
      "...\n",
      "HELLO. I AM CHAR_COUNTER. YOU HAVE GIVEN ME THE DATA \"3.14159\".\n",
      "...PROCESSING...\n",
      "THERE ARE 7 CHARACTERS IN THE DATA \"3.14159\".\n",
      "HAVE A NICE DAY.\n",
      "...\n"
     ]
    }
   ],
   "source": [
    "###############################################\n",
    "### Write your function in the space below. ###\n",
    "#### Then run the cell to check your work. ####\n",
    "\n",
    "\n",
    "\n",
    "###############################################\n",
    "\n",
    "char_counter('bananas')\n",
    "char_counter(12381)\n",
    "char_counter(3.14159)"
   ]
  },
  {
   "cell_type": "markdown",
   "id": "8e28df87-a80f-49e1-9fa5-f6b9e2e2fda7",
   "metadata": {},
   "source": [
    "---\n",
    "## `input()`\n",
    "\n",
    "The built-in function `input()` prompts the user for input and accepts the response.  \n",
    "`input()` takes a `str` argument which can be used to describe what the function is trying to get from the user as input."
   ]
  },
  {
   "cell_type": "code",
   "execution_count": 25,
   "id": "2f818e09-9842-4a77-8842-e3d3309782ed",
   "metadata": {},
   "outputs": [
    {
     "name": "stdin",
     "output_type": "stream",
     "text": [
      "What day of the week is it? Wednesday\n"
     ]
    },
    {
     "name": "stdout",
     "output_type": "stream",
     "text": [
      "Wednesday\n"
     ]
    }
   ],
   "source": [
    "weekday = input('What day of the week is it?')\n",
    "print(weekday)"
   ]
  },
  {
   "cell_type": "markdown",
   "id": "dbe56d73-f1c8-424c-b7a5-636fad90af30",
   "metadata": {},
   "source": [
    "---\n",
    "### Problem 5.\n",
    "\n",
    "Write a function called `fortune()` with the following behavior:\n",
    "- has no arguments\n",
    "- prompts the user for their name and\n",
    "- prompts the user for their birth month\n",
    "- prompts the user for the day of their birth\n",
    "- tells the user their lucky number\n",
    "- returns the lucky number as `int`\n",
    "\n",
    "The lucky number should be calculated as follows:\n",
    "> (number of characters in the user's name) * (number of character's in the user's birth month) / (user's birth day), giving the remainder.\n",
    "\n",
    "**Example Behavior:**\n",
    "\n",
    "```\n",
    "fortune()\n",
    "\n",
    "What is your name? Guido\n",
    "Nice to meet you, Guido.\n",
    "What month were you born in? March\n",
    "Ah... March... that's a very auspicious month.\n",
    "And what day in March were you born? 12\n",
    "I see... 12 is a number with important meaning.\n",
    "I'm looking into your future...\n",
    "It appears that your lucky number is 1.\n",
    "```"
   ]
  },
  {
   "cell_type": "code",
   "execution_count": 26,
   "id": "7e379eb6-9db2-4cba-a7ac-03fc7be0d90f",
   "metadata": {},
   "outputs": [
    {
     "name": "stdin",
     "output_type": "stream",
     "text": [
      "What is your name? Guido\n"
     ]
    },
    {
     "name": "stdout",
     "output_type": "stream",
     "text": [
      "Nice to meet you, Guido.\n"
     ]
    },
    {
     "name": "stdin",
     "output_type": "stream",
     "text": [
      "What month were you born in? March\n"
     ]
    },
    {
     "name": "stdout",
     "output_type": "stream",
     "text": [
      "Ah... March... that's a very auspicious month.\n"
     ]
    },
    {
     "name": "stdin",
     "output_type": "stream",
     "text": [
      "And what day in March were you born? 12\n"
     ]
    },
    {
     "name": "stdout",
     "output_type": "stream",
     "text": [
      "I see... 12 is a number with important meaning.\n",
      "I'm looking into your future...\n",
      "It appears that your lucky number is 1.\n"
     ]
    },
    {
     "data": {
      "text/plain": [
       "1"
      ]
     },
     "execution_count": 26,
     "metadata": {},
     "output_type": "execute_result"
    }
   ],
   "source": [
    "###############################################\n",
    "### Write your function in the space below. ###\n",
    "#### Then run the cell to check your work. ####\n",
    "\n",
    "\n",
    "\n",
    "###############################################\n",
    "\n",
    "fortune()"
   ]
  },
  {
   "cell_type": "code",
   "execution_count": null,
   "id": "ee3b4cb1-e0f6-496a-bf7c-ad24a47cde23",
   "metadata": {},
   "outputs": [],
   "source": []
  }
 ],
 "metadata": {
  "kernelspec": {
   "display_name": "Python 3 (ipykernel)",
   "language": "python",
   "name": "python3"
  },
  "language_info": {
   "codemirror_mode": {
    "name": "ipython",
    "version": 3
   },
   "file_extension": ".py",
   "mimetype": "text/x-python",
   "name": "python",
   "nbconvert_exporter": "python",
   "pygments_lexer": "ipython3",
   "version": "3.11.0"
  }
 },
 "nbformat": 4,
 "nbformat_minor": 5
}
