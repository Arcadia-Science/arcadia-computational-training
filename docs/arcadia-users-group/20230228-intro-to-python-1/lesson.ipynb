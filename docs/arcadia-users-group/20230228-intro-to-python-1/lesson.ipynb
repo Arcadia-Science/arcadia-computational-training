{
 "cells": [
  {
   "cell_type": "markdown",
   "id": "47c60269-9748-4d32-8099-4c5727df2bdd",
   "metadata": {
    "tags": []
   },
   "source": [
    "# Introduction to Python, Part 1\n",
    "\n",
    "---\n",
    "## 0. Fundamentals of Python\n",
    "\n",
    "Python is a popular programming language. It was designed to be easy to read in comparison to other programming languages, so it's a great first programming language to learn. \n",
    "\n",
    "**This lesson** covers the following basics of Python, such as:\n",
    "- variables\n",
    "- data types\n",
    "- built-in functions\n",
    "- creating custom functions\n",
    "\n",
    "Over the following lessons, we'll cover more basics of Python, including:\n",
    "- data structures\n",
    "- loops\n",
    "- conditional expressions\n",
    "- packages\n",
    "- methods\n",
    "- debugging\n",
    "- ... and more!\n",
    "\n",
    "At the end of this workshop series, you'll have enough experience with Python to be able to write your own basic Python scripts. You'll also have enough knowledge of Python to be able to use the OpenTrons API (Application-Program Interface) to control our in-house liquid handling robot, covered in the upcoming Intro to OpenTrons series.\n",
    "\n",
    "---\n",
    "### 0.1 Jupyter Notebooks\n",
    "\n",
    "For the first workshop, we'll work in an interactive computing environment called a Jupyter notebook. To run a \"cell\" of code in Jupyter, you'll simply press <kbd>Shift</kbd>+<kbd>Return</kbd> from inside the cell. The result of the cell - the output - will display just below the cell.\n",
    "\n",
    "You can tell if a cell has successfully executed based on the `[ ]` text to the left of the cell. A cell that is in progress has an asterisk `[*]`, and a cell that has completed has a number `[1]`.\n",
    "\n",
    "For more on Jupyter notebooks, you can check out this [AUG Lesson](https://training.arcadiascience.com/arcadia-users-group/20221024-jupyter-notebooks/lesson/). \n",
    "\n",
    "> **Fun fact!**\n",
    ">\n",
    "> The Python programming language is not named for snakes, but instead for Monty Python, a signifier of the idea that the language should be [fun to use](https://en.wikipedia.org/wiki/Python_(programming_language)#Design_philosophy_and_features).  \n",
    "> Despite this, many Python tools and packages make reference to snakes, such as packages you may have heard us talk about before: [Anaconda](https://www.anaconda.com/products/distribution), [conda](https://docs.conda.io/en/latest/), [mamba](https://mamba.readthedocs.io/en/latest/), [snakemake](https://snakemake.readthedocs.io/en/stable/), etc."
   ]
  },
  {
   "cell_type": "markdown",
   "id": "045a6933-e1cf-454e-9774-f0e98f77a2fa",
   "metadata": {},
   "source": [
    "---\n",
    "## 1. Variables\n",
    "\n",
    "Variables in programming languages are containers for assigning values.\n",
    "\n",
    "Below, we assign the value `1` to the variable `x` and the value `4` to the variable `y`."
   ]
  },
  {
   "cell_type": "code",
   "execution_count": 1,
   "id": "df2c1824-baef-406f-92f3-c5bda7459220",
   "metadata": {},
   "outputs": [],
   "source": [
    "x = 1\n",
    "y = 4"
   ]
  },
  {
   "cell_type": "markdown",
   "id": "ca3366e5-794d-4295-bf4c-7169ee9e4002",
   "metadata": {},
   "source": [
    "When we ask Python to evalute `x + y`, it substitutes the value `1` for `x` and the value `4` for `y`.\n",
    "\n",
    "Running the cell below returns the output value of the expression `x + y`."
   ]
  },
  {
   "cell_type": "code",
   "execution_count": 2,
   "id": "bd07988b-ec23-4af1-831e-9119477785b7",
   "metadata": {},
   "outputs": [
    {
     "data": {
      "text/plain": [
       "5"
      ]
     },
     "execution_count": 2,
     "metadata": {},
     "output_type": "execute_result"
    }
   ],
   "source": [
    "x + y"
   ]
  },
  {
   "cell_type": "markdown",
   "id": "12272038-4720-4423-89c4-bea0f4f6c953",
   "metadata": {
    "tags": []
   },
   "source": [
    "---\n",
    "## 2. Data types\n",
    "\n",
    "Variables in Python come in a variety of types, such as:\n",
    "- `int` or **integer**: whole numbers such as `1`, `2`, `3`, etc.\n",
    "- `float` or **floating-point number**: numbers including decimals, e.g. `1.03`.\n",
    "- `str` or **string**: chains of alphanumeric characters flanked by quotation marks, e.g. `'apple'`.   \n",
    "You can use either single-quotes or double-quotes, but they must be the same on either end.\n",
    "\n",
    "Python is able to natively perform certain operations using these datatypes, such as basic addition `+`, subtraction `-`, multiplication `*`, division `/`, etc."
   ]
  },
  {
   "cell_type": "code",
   "execution_count": 3,
   "id": "ebbed097-11db-4974-87fc-bae23aa14540",
   "metadata": {},
   "outputs": [
    {
     "data": {
      "text/plain": [
       "2.36"
      ]
     },
     "execution_count": 3,
     "metadata": {},
     "output_type": "execute_result"
    }
   ],
   "source": [
    "1 + 2 * 3.4 / 5"
   ]
  },
  {
   "cell_type": "markdown",
   "id": "bc060e1d-e5ff-4c25-bf91-c48b74fcbefa",
   "metadata": {},
   "source": [
    "Python also has some helpful intuitive operations – for example, you can join two strings together with a `+` operator as follows:"
   ]
  },
  {
   "cell_type": "code",
   "execution_count": 4,
   "id": "957893fc-18ee-4fb7-9cd4-4a1f83f724db",
   "metadata": {},
   "outputs": [
    {
     "data": {
      "text/plain": [
       "'pineapple'"
      ]
     },
     "execution_count": 4,
     "metadata": {},
     "output_type": "execute_result"
    }
   ],
   "source": [
    "'pine' + 'apple' "
   ]
  },
  {
   "cell_type": "markdown",
   "id": "f6b11eaf-c88e-4b32-9926-006b40515d0d",
   "metadata": {},
   "source": [
    "Certain operations are not supported by default in Python - for example, you can't add a `str` with an `int`. Running the code below will cause a `TypeError`. Python is quite helpful in explaining errors you might encounter. Read the error message below and see if it makes sense to you.\n",
    "\n",
    "In general, you should expect to encounter *lots* of these errors, or \"bugs\", when you start getting into programming. **This is totally normal!**  \n",
    "In fact, probably 50% of programming is just squashing bugs.  \n",
    "\n",
    "If you're ever confused about the source of an error, websites such as [StackOverflow](https://stackoverflow.com/) are great places to look for answers."
   ]
  },
  {
   "cell_type": "code",
   "execution_count": 5,
   "id": "9de75218-ee62-4788-84bf-bc93092723fa",
   "metadata": {},
   "outputs": [
    {
     "ename": "TypeError",
     "evalue": "unsupported operand type(s) for +: 'int' and 'str'",
     "output_type": "error",
     "traceback": [
      "\u001b[0;31m---------------------------------------------------------------------------\u001b[0m",
      "\u001b[0;31mTypeError\u001b[0m                                 Traceback (most recent call last)",
      "Cell \u001b[0;32mIn[5], line 1\u001b[0m\n\u001b[0;32m----> 1\u001b[0m \u001b[38;5;241;43m3\u001b[39;49m\u001b[43m \u001b[49m\u001b[38;5;241;43m+\u001b[39;49m\u001b[43m \u001b[49m\u001b[38;5;124;43m'\u001b[39;49m\u001b[38;5;124;43m5\u001b[39;49m\u001b[38;5;124;43m'\u001b[39;49m\n",
      "\u001b[0;31mTypeError\u001b[0m: unsupported operand type(s) for +: 'int' and 'str'"
     ]
    }
   ],
   "source": [
    "3 + '5'"
   ]
  },
  {
   "cell_type": "markdown",
   "id": "612c3b37-91b4-4aac-951d-f3ca763fc8ad",
   "metadata": {},
   "source": [
    "> **Fun Fact!**\n",
    ">\n",
    "> The term \"bug\" predates modern computers, but there are real examples of actual insects interfering with the function of a computer, such as this [\"bug\" found at Harvard in 1947](https://education.nationalgeographic.org/resource/worlds-first-computer-bug). "
   ]
  },
  {
   "cell_type": "markdown",
   "id": "098289ae-151f-4a60-a53e-99b891150254",
   "metadata": {},
   "source": [
    "---\n",
    "## 3. Using variables\n",
    "\n",
    "You assign variables in Python using the `variable = value` syntax. You can perform operations on a mix of hard-coded values and variables interchangeably. This is very useful when you expect to use a variable in many different places in your script - Python keeps track of its value so you don't have to."
   ]
  },
  {
   "cell_type": "code",
   "execution_count": 26,
   "id": "2d86f0c9-c0fc-4c63-befd-219adb5d37cb",
   "metadata": {},
   "outputs": [
    {
     "data": {
      "text/plain": [
       "15"
      ]
     },
     "execution_count": 26,
     "metadata": {},
     "output_type": "execute_result"
    }
   ],
   "source": [
    "a = 1\n",
    "b = 6 + a\n",
    "c = a * b\n",
    "\n",
    "a + b + c"
   ]
  },
  {
   "cell_type": "markdown",
   "id": "75a92e04-aaf3-4329-b611-aa274d1036fb",
   "metadata": {},
   "source": [
    "You can assign a different value to a variable later in your code, which replaces the original value. This can be useful, but it's also important to be careful not to overwrite variables you want to keep!"
   ]
  },
  {
   "cell_type": "code",
   "execution_count": 7,
   "id": "05fe31d0-4fbe-4070-9c99-94a345a59e0c",
   "metadata": {},
   "outputs": [
    {
     "data": {
      "text/plain": [
       "10"
      ]
     },
     "execution_count": 7,
     "metadata": {},
     "output_type": "execute_result"
    }
   ],
   "source": [
    "a = 4\n",
    "\n",
    "a + b"
   ]
  },
  {
   "cell_type": "markdown",
   "id": "45c39c50-b52f-4c57-8992-47789284ef0f",
   "metadata": {},
   "source": [
    "---\n",
    "## 4. Built-in Python functions\n",
    "\n",
    "In addition to managing variables and values, Python also provides a variety of [built-in functions](https://docs.python.org/3/library/functions.html). Functions are \"called\" by chaining the function name with parentheses `()`. Parameters of that function can be typed between the parentheses to tell the function what to do.\n",
    "\n",
    "For example, the `print()` function takes any value and prints it as output."
   ]
  },
  {
   "cell_type": "code",
   "execution_count": 8,
   "id": "d36d5d0b-9bcb-4529-9663-1a9d43ba9d90",
   "metadata": {},
   "outputs": [
    {
     "name": "stdout",
     "output_type": "stream",
     "text": [
      "Hello, world!\n",
      "10\n"
     ]
    }
   ],
   "source": [
    "print('Hello, world!')\n",
    "\n",
    "print(a + b)"
   ]
  },
  {
   "cell_type": "markdown",
   "id": "13c91b83-a2da-4235-b613-6c8028741cf6",
   "metadata": {},
   "source": [
    "We can call a function from within another function call. For example, the `type()` function gives the type of a Python value."
   ]
  },
  {
   "cell_type": "code",
   "execution_count": 9,
   "id": "5e71c29c-303d-4b7d-a43f-86840e4a324f",
   "metadata": {},
   "outputs": [
    {
     "name": "stdout",
     "output_type": "stream",
     "text": [
      "<class 'int'>\n",
      "<class 'str'>\n"
     ]
    }
   ],
   "source": [
    "print(type(4))\n",
    "print(type('Hello, world!'))"
   ]
  },
  {
   "cell_type": "markdown",
   "id": "ee1a86c8-2b26-49b4-ad8e-d05d7df2cfa2",
   "metadata": {},
   "source": [
    "---\n",
    "## 5. Typecasting\n",
    "\n",
    "A bit earlier, we tried to evalute the expression `3 + '5'`. This failed because we were trying to add an `int` and a `str`, which isn't natively supported operation with the `+` operand.\n",
    "\n",
    "If we wanted to actually get the sum of 3 + 5 in this case, but `'5'` is given as a `str`, we can actually **force** `'5'` to be an `int` instead using typecasting, as below:"
   ]
  },
  {
   "cell_type": "code",
   "execution_count": 21,
   "id": "4efdfb66-5063-4657-ad72-94363523f6aa",
   "metadata": {},
   "outputs": [
    {
     "data": {
      "text/plain": [
       "8"
      ]
     },
     "execution_count": 21,
     "metadata": {},
     "output_type": "execute_result"
    }
   ],
   "source": [
    "3 + int('5')"
   ]
  },
  {
   "cell_type": "markdown",
   "id": "57fb6836-772e-4400-b959-b3b50d366a3d",
   "metadata": {},
   "source": [
    "You can see that now, instead of throwing a `TypeError`, the expression returns the expected value.  \n",
    "\n",
    "We typecast in Python by calling our data type as a function, e.g. `str()`, `int()`, `float()`, etc.  \n",
    "In some cases, you can't cast a value into another type; for example, running the code below throws a `ValueError`."
   ]
  },
  {
   "cell_type": "code",
   "execution_count": 22,
   "id": "b25b01ea-280d-4fc2-a27d-bd6e4f0ff6de",
   "metadata": {},
   "outputs": [
    {
     "ename": "ValueError",
     "evalue": "invalid literal for int() with base 10: 'banana'",
     "output_type": "error",
     "traceback": [
      "\u001b[0;31m---------------------------------------------------------------------------\u001b[0m",
      "\u001b[0;31mValueError\u001b[0m                                Traceback (most recent call last)",
      "Cell \u001b[0;32mIn[22], line 1\u001b[0m\n\u001b[0;32m----> 1\u001b[0m \u001b[38;5;28;43mint\u001b[39;49m\u001b[43m(\u001b[49m\u001b[38;5;124;43m'\u001b[39;49m\u001b[38;5;124;43mbanana\u001b[39;49m\u001b[38;5;124;43m'\u001b[39;49m\u001b[43m)\u001b[49m\n",
      "\u001b[0;31mValueError\u001b[0m: invalid literal for int() with base 10: 'banana'"
     ]
    }
   ],
   "source": [
    "int('banana')"
   ]
  },
  {
   "cell_type": "markdown",
   "id": "0ee31ac8-1b92-4fcf-8fbf-507500dc766c",
   "metadata": {},
   "source": [
    "This example is probably pretty intuitive, as it's hard to imagine how you would turn the string `'banana'` into an integer.  \n",
    "But there are plenty of cases where typecasting won't work, so be aware that this isn't a perfect solution."
   ]
  },
  {
   "cell_type": "markdown",
   "id": "44427313-2abe-4745-b6b4-f9cdcc90d902",
   "metadata": {},
   "source": [
    "---\n",
    "## P1. Practice\n",
    "\n",
    "Let's try some things with basic Python variables!\n",
    "\n",
    "> ### Practice 1\n",
    "> What values do `x` and `y` have after each of the following statements?\n",
    "\n",
    "<details>\n",
    "    <summary> Practice 1 Answer </summary>\n",
    "    <code>x</code> = 25, <code>y</code> does not yet exist <br>\n",
    "    <code>x</code> = 25, <code>y</code> = 6 <br>\n",
    "    <code>x</code> = 100.0, <code>y</code> = 6 <br>\n",
    "    <code>x</code> = 100.0, <code>y</code> = 10 <br>\n",
    "</details>"
   ]
  },
  {
   "cell_type": "code",
   "execution_count": 28,
   "id": "2911a593-2781-4bb1-a907-4ff9b211c5d3",
   "metadata": {},
   "outputs": [],
   "source": [
    "x = 25\n",
    "y = 6\n",
    "x = x * 4.0\n",
    "y = y + 4"
   ]
  },
  {
   "cell_type": "markdown",
   "id": "02e8df7a-bb59-4317-8527-9b717dbb47cf",
   "metadata": {},
   "source": [
    "> ### Practice 2\n",
    ">\n",
    "> What is the expected value of `m` at the end of the cell below?\n",
    "\n",
    "<details>\n",
    "    <summary> Practice 2 Answer </summary>\n",
    "    This is a trick question! You might have expected the cell below to throw a <code>TypeError</code> because we're multiplying an <code>int</code> with a <code>str</code>. But <code>`4 * '15'`</code> is actually a special operation in Python; it's telling Python to repeat the string <code>'15'</code> four times. Therefore, the correct answer is <code>'15151515'</code>\n",
    "</details>"
   ]
  },
  {
   "cell_type": "code",
   "execution_count": 45,
   "id": "86cc4658-3ce0-4397-9939-1b013c29d22d",
   "metadata": {},
   "outputs": [],
   "source": [
    "i = 3\n",
    "j = '5'\n",
    "k = i * int(j)\n",
    "\n",
    "l = 4\n",
    "m = l * str(k)"
   ]
  },
  {
   "cell_type": "markdown",
   "id": "4c744024-3c35-4559-80c0-5492a45634e5",
   "metadata": {},
   "source": [
    "---\n",
    "## 6. Defining a custom function\n",
    "\n",
    "In addition to working with built-in functions, you can also define your own functions in Python. This is one of the most powerful ways to use the language, as it allows you to write one block of code which you can use repeatedly in your scripts.\n",
    "\n",
    "Let's write our first function, called `hello_world()`.\n",
    "\n",
    "To define a custom function, you can start by writing `def`, followed by the desired name of your function, and parentheses `()`. Finish the line with a colon `:`."
   ]
  },
  {
   "cell_type": "code",
   "execution_count": 11,
   "id": "e7a22980-5ab8-4b2a-8dae-5ae0efc4b07d",
   "metadata": {},
   "outputs": [],
   "source": [
    "def hello_world():\n",
    "    print('Hello world!')"
   ]
  },
  {
   "cell_type": "markdown",
   "id": "e3bf79f3-30fc-4c92-9d7d-9d8b4fb3972b",
   "metadata": {},
   "source": [
    "When you execute the cell above, nothing prints out. Why?  \n",
    "The answer is that using the code above, you've only told Python that you're defining a function called `hello_world()`, which itself calls `print()`. To run the function, you have to call it using the parentheses operator, as below."
   ]
  },
  {
   "cell_type": "code",
   "execution_count": 12,
   "id": "29575d02-623f-4186-97c0-662716366ba7",
   "metadata": {},
   "outputs": [
    {
     "name": "stdout",
     "output_type": "stream",
     "text": [
      "Hello world!\n"
     ]
    }
   ],
   "source": [
    "hello_world()"
   ]
  },
  {
   "cell_type": "markdown",
   "id": "486e70de-dc22-4c71-8b78-5c4d11892095",
   "metadata": {},
   "source": [
    "---\n",
    "## 7. Indentation and code blocks\n",
    "\n",
    "You've defined a function above, but how does Python know when the function ends?  \n",
    "Python uses **indentation** to signify the scope of a function. In the code block below, we define a function, then define a variable, and finally pass the variable to the function.\n",
    "\n",
    "The line break and lack of indentation after the end of the function's scope tells Python that the function is completed."
   ]
  },
  {
   "cell_type": "code",
   "execution_count": 13,
   "id": "fac9ea93-a2cc-4f6d-9b9b-12579319c030",
   "metadata": {},
   "outputs": [
    {
     "data": {
      "text/plain": [
       "'Hello Guido!'"
      ]
     },
     "execution_count": 13,
     "metadata": {},
     "output_type": "execute_result"
    }
   ],
   "source": [
    "def hello_name(name):\n",
    "    return 'Hello ' + name + '!'\n",
    "\n",
    "my_name = 'Guido'\n",
    "\n",
    "hello_name(my_name)"
   ]
  },
  {
   "cell_type": "markdown",
   "id": "451b4865-8e04-49fc-887a-eac852de16fa",
   "metadata": {},
   "source": [
    "You might notice some differences in the code above to the `hello_world` function we defined previously. Let's go over these differences.\n",
    "\n",
    "- There is now a variable `name` in the parentheses of the `hello_name` definition.  \n",
    "    This is how we define **arguments** of functions, or their input parameters. For example, the `print()` function accepts a comma-separated list of values as its arguments. Arguments act as placeholders – in the above example, `name` has no explicit value. But any value or variable placed into `hello_name` gets treated as the `name` variable, which is then kept through the rest of the function.\n",
    "    \n",
    "- The function ends with a **`return`** statement instead of a `print()` call.  \n",
    "    Most Python functions should end with a **`return`** statement. This is the value that the function spits out when it finishes running. If a function lacks a **`return`** statement, it will instead return **`None`**, a special value of the type `NoneType`.\n",
    "    \n",
    "An important thing to know is that the output of functions can themselves be assigned to variables, as exemplefied below. Combining function calls with variable assignment is a powerful way of using Python functions to modify or generate new variables."
   ]
  },
  {
   "cell_type": "code",
   "execution_count": 14,
   "id": "d9ad28b0-57aa-47cc-888e-8309b4b04a12",
   "metadata": {},
   "outputs": [
    {
     "name": "stdout",
     "output_type": "stream",
     "text": [
      "Hello Guido! My name is Python!\n"
     ]
    }
   ],
   "source": [
    "sentence_1 = hello_name(my_name)\n",
    "sentence_2 = 'My name is Python!'\n",
    "\n",
    "print(sentence_1, sentence_2)"
   ]
  },
  {
   "cell_type": "markdown",
   "id": "c1994502-7013-4388-9ff8-ecd762f0413c",
   "metadata": {},
   "source": [
    "---\n",
    "## 8. Comments\n",
    "\n",
    "A crucial part of writing good code is being able to understand what it does later.  \n",
    "For example, consider how mystifying it can be to try to read the code block below.\n",
    "\n",
    "> Note: the `**` operand is the exponential."
   ]
  },
  {
   "cell_type": "code",
   "execution_count": 40,
   "id": "8bdb371b-5c0b-4829-b810-00ab2b57ae6f",
   "metadata": {},
   "outputs": [
    {
     "data": {
      "text/plain": [
       "(15.0, -22.0)"
      ]
     },
     "execution_count": 40,
     "metadata": {},
     "output_type": "execute_result"
    }
   ],
   "source": [
    "def factor(a, b, c):\n",
    "    step_one = -1 * b\n",
    "    step_q = 4 * a * c\n",
    "    step_two_a = step_one + (b ** 2 - step_q)\n",
    "    step_two_b = step_one - (b ** 2 - step_q)\n",
    "    step_p = 2 * a\n",
    "    step_three_a = step_two_a / step_p\n",
    "    step_three_b = step_two_b / step_p\n",
    "    result = step_three_a, step_three_b\n",
    "    return result\n",
    "\n",
    "a = 1\n",
    "b = 7\n",
    "c = 3\n",
    "\n",
    "factor(a, b, c)"
   ]
  },
  {
   "cell_type": "markdown",
   "id": "e5f66828-e8a7-47b5-94f0-5021e44b7eed",
   "metadata": {},
   "source": [
    "The function above is definitely an example of inefficiently written code, but let's put that aside for now.  \n",
    "If you ended up writing the function above, it might be helpful to be able to know what the overall goal of the code is, and perhaps what each step is doing.\n",
    "\n",
    "This is where **comments** come to the rescue. Comments in Python begin on the left with a hash mark (`#`) and are ignored by the Python interpreter. You can even include a comment in the same line as functional code!  \n",
    "Consider the code below with comments - how does the code feel with comments and additional line breaks included?"
   ]
  },
  {
   "cell_type": "code",
   "execution_count": 42,
   "id": "ad04d936-be13-412c-8935-2cec690907a0",
   "metadata": {},
   "outputs": [
    {
     "data": {
      "text/plain": [
       "(15.0, -22.0)"
      ]
     },
     "execution_count": 42,
     "metadata": {},
     "output_type": "execute_result"
    }
   ],
   "source": [
    "# Applies the quadratic formula to find the intercepts of a quadratic equation of the format y = ax**2 + bx + c\n",
    "def factor(a, b, c):\n",
    "    # The formula is:\n",
    "    # -b +/- sqrt(b**2 - 4ac) / 2a\n",
    "    \n",
    "    step_one = -1 * b # evaluates -b\n",
    "    step_q = 4 * a * c # evaluates 4ac\n",
    "    \n",
    "    step_two_a = step_one + (b ** 2 - step_q) # evaluates the numerator with addition\n",
    "    step_two_b = step_one - (b ** 2 - step_q) # evaluates the numerator with subtraction\n",
    "    \n",
    "    step_p = 2 * a # evaluates the denominator\n",
    "    \n",
    "    step_three_a = step_two_a / step_p # gets the right intercept\n",
    "    step_three_b = step_two_b / step_p # gets the left intercept\n",
    "    result = step_three_a, step_three_b # combines the intercept into a tuple\n",
    "    \n",
    "    return result\n",
    "\n",
    "# Defines a, b, and c \n",
    "a = 1\n",
    "b = 7\n",
    "c = 3\n",
    "\n",
    "# Run the actual function, returning result\n",
    "factor(a, b, c)"
   ]
  },
  {
   "cell_type": "markdown",
   "id": "0bf7ae61-83d8-4e3c-81e0-05ac9dd99d85",
   "metadata": {},
   "source": [
    "---\n",
    "## P2. Practice\n",
    "\n",
    "Let's try writing some basic Python functions.\n",
    "\n",
    "> ### Practice 3\n",
    "> Write a function called `greetings()` that takes two arguments: `greeting` and `name` and returns the string `'Greeting, Name!'`\n",
    "\n",
    "<details>\n",
    "<summary> Practice 3 Sample Answer </summary>\n",
    "    <pre><code><b>def</b> greetings(greeting, name):\n",
    "    <b>return</b> greeting + ', ' + name + '!'\n",
    "</code></pre>\n",
    "</details>\n"
   ]
  },
  {
   "cell_type": "code",
   "execution_count": 20,
   "id": "bc1978cc-2b79-47c4-b817-4d505ea69c96",
   "metadata": {},
   "outputs": [
    {
     "data": {
      "text/plain": [
       "'Bonjour, Jacques!'"
      ]
     },
     "execution_count": 20,
     "metadata": {},
     "output_type": "execute_result"
    }
   ],
   "source": [
    "###########################################\n",
    "# Write your function in the space below. #\n",
    "## Then run the cell to check your work. ##\n",
    "\n",
    "\n",
    "\n",
    "\n",
    "###########################################\n",
    "\n",
    "greeting = 'Bonjour'\n",
    "name = 'Jacques'\n",
    "\n",
    "greetings(greeting, name)"
   ]
  },
  {
   "cell_type": "markdown",
   "id": "9ebcb449-4255-4dbd-a345-cc2a6f358179",
   "metadata": {},
   "source": [
    "> ### Practice 4\n",
    "> What happens if you pass the variable `x` below to your `greetings()` function?\n",
    ">\n",
    "> How could you modify the function to avoid this error?\n",
    "\n",
    "<details>\n",
    "<summary> Practice 4 Sample Answer </summary>\n",
    "    <pre><code><b>def</b> greetings(greeting, name):\n",
    "    <b>return</b> greeting + ', ' + str(name) + '!'\n",
    "</code></pre>\n",
    "</details>"
   ]
  },
  {
   "cell_type": "code",
   "execution_count": 36,
   "id": "529211c5-8c94-4132-8eb4-65e667e9e3f7",
   "metadata": {},
   "outputs": [
    {
     "ename": "TypeError",
     "evalue": "can only concatenate str (not \"int\") to str",
     "output_type": "error",
     "traceback": [
      "\u001b[0;31m---------------------------------------------------------------------------\u001b[0m",
      "\u001b[0;31mTypeError\u001b[0m                                 Traceback (most recent call last)",
      "Cell \u001b[0;32mIn[36], line 12\u001b[0m\n\u001b[1;32m      1\u001b[0m \u001b[38;5;66;03m###############################################\u001b[39;00m\n\u001b[1;32m      2\u001b[0m \u001b[38;5;66;03m# Write your new function in the space below. #\u001b[39;00m\n\u001b[1;32m      3\u001b[0m \u001b[38;5;66;03m#### Then run the cell to check your work. ####\u001b[39;00m\n\u001b[0;32m   (...)\u001b[0m\n\u001b[1;32m      7\u001b[0m \n\u001b[1;32m      8\u001b[0m \u001b[38;5;66;03m###############################################\u001b[39;00m\n\u001b[1;32m     10\u001b[0m robot_name \u001b[38;5;241m=\u001b[39m \u001b[38;5;241m120\u001b[39m\n\u001b[0;32m---> 12\u001b[0m \u001b[43mgreetings\u001b[49m\u001b[43m(\u001b[49m\u001b[43mgreeting\u001b[49m\u001b[43m,\u001b[49m\u001b[43m \u001b[49m\u001b[43mrobot_name\u001b[49m\u001b[43m)\u001b[49m\n",
      "Cell \u001b[0;32mIn[19], line 6\u001b[0m, in \u001b[0;36mgreetings\u001b[0;34m(greeting, name)\u001b[0m\n\u001b[1;32m      5\u001b[0m \u001b[38;5;28;01mdef\u001b[39;00m \u001b[38;5;21mgreetings\u001b[39m(greeting, name):\n\u001b[0;32m----> 6\u001b[0m     \u001b[38;5;28;01mreturn\u001b[39;00m \u001b[43mgreeting\u001b[49m\u001b[43m \u001b[49m\u001b[38;5;241;43m+\u001b[39;49m\u001b[43m \u001b[49m\u001b[38;5;124;43m'\u001b[39;49m\u001b[38;5;124;43m, \u001b[39;49m\u001b[38;5;124;43m'\u001b[39;49m\u001b[43m \u001b[49m\u001b[38;5;241;43m+\u001b[39;49m\u001b[43m \u001b[49m\u001b[43mname\u001b[49m \u001b[38;5;241m+\u001b[39m \u001b[38;5;124m'\u001b[39m\u001b[38;5;124m!\u001b[39m\u001b[38;5;124m'\u001b[39m\n",
      "\u001b[0;31mTypeError\u001b[0m: can only concatenate str (not \"int\") to str"
     ]
    }
   ],
   "source": [
    "###############################################\n",
    "# Write your new function in the space below. #\n",
    "#### Then run the cell to check your work. ####\n",
    "\n",
    "\n",
    "\n",
    "\n",
    "###############################################\n",
    "\n",
    "robot_name = 120\n",
    "\n",
    "greetings(greeting, robot_name)"
   ]
  },
  {
   "cell_type": "markdown",
   "id": "0a60f176-c612-4360-8f05-e25116e11670",
   "metadata": {},
   "source": [
    "---\n",
    "## 9. Problem Set\n",
    "\n",
    "To really get familiar with coding in Python (or any other language), the best way is simply to **write a lot of code**.  \n",
    "We recommend working through a problem set to practice some more with coding in Python. The problem set will also cover some of the basics we covered in a bit more detail. We expect the problem set won't take longer than ~1-2 hrs to complete.\n",
    "\n",
    "We'll have office hours throughout the week for you to stop by and work on your problem set with other Arcadians as well as to work through any bugs in your code."
   ]
  },
  {
   "cell_type": "code",
   "execution_count": null,
   "id": "a7ba3fcc-b5be-4ffb-bc03-2e3cbb829a10",
   "metadata": {},
   "outputs": [],
   "source": []
  }
 ],
 "metadata": {
  "kernelspec": {
   "display_name": "Python 3 (ipykernel)",
   "language": "python",
   "name": "python3"
  },
  "language_info": {
   "codemirror_mode": {
    "name": "ipython",
    "version": 3
   },
   "file_extension": ".py",
   "mimetype": "text/x-python",
   "name": "python",
   "nbconvert_exporter": "python",
   "pygments_lexer": "ipython3",
   "version": "3.11.0"
  }
 },
 "nbformat": 4,
 "nbformat_minor": 5
}
