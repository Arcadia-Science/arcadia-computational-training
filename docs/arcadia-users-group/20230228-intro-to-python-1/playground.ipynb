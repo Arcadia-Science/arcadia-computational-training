{
 "cells": [
  {
   "cell_type": "markdown",
   "id": "382e179f-a284-4861-a782-bc5841b17187",
   "metadata": {},
   "source": [
    "# Playground\n",
    "\n",
    "Use this notebook to code-along to the lesson!  \n",
    "It's often helpful to write code yourself in order to understand how it works.  \n",
    "\n",
    "If you get lost, you can find the lesson [here](lesson.ipynb)."
   ]
  },
  {
   "cell_type": "code",
   "execution_count": null,
   "id": "e3900ae9-bb44-4cca-bf7a-933015a56d5e",
   "metadata": {},
   "outputs": [],
   "source": []
  }
 ],
 "metadata": {
  "kernelspec": {
   "display_name": "Python 3 (ipykernel)",
   "language": "python",
   "name": "python3"
  },
  "language_info": {
   "codemirror_mode": {
    "name": "ipython",
    "version": 3
   },
   "file_extension": ".py",
   "mimetype": "text/x-python",
   "name": "python",
   "nbconvert_exporter": "python",
   "pygments_lexer": "ipython3",
   "version": "3.11.0"
  }
 },
 "nbformat": 4,
 "nbformat_minor": 5
}
