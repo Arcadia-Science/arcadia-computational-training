{
 "cells": [
  {
   "cell_type": "markdown",
   "id": "2c08df7c-86a5-430c-95a3-a90719c3f81d",
   "metadata": {},
   "source": [
    "# Introduction to Python, Part 2\n",
    "\n",
    "---\n",
    "## 0. Loops and Conditionals - Problem Set\n",
    "\n",
    "Let's work through some problems that explore the power of methods, loops, and conditionals!  \n",
    "We'll also cover in more detail some really helpful built-in Python methods.  \n",
    "\n",
    "---\n",
    "## String methods galore\n",
    "\n",
    "Python has some particularly nice and helpful methods to work with strings. Some examples:\n",
    "\n",
    "### `.strip()`\n",
    "This method removes characters from the left and right sides of a string.  \n",
    "By default, it removes leading and trailing whitespaces.\n",
    "\n",
    "You can also pass it a string of characters, and it will remove characters matching from the left and right until none remain."
   ]
  },
  {
   "cell_type": "code",
   "execution_count": 4,
   "id": "d4f27a9e-95db-4467-b38a-39589c0df0ac",
   "metadata": {},
   "outputs": [
    {
     "name": "stdout",
     "output_type": "stream",
     "text": [
      "banana\n",
      "Arcadia\n"
     ]
    }
   ],
   "source": [
    "string = '     banana     '\n",
    "print(string.strip())\n",
    "\n",
    "string = 'xoxoArcadiaxoxo'\n",
    "print(string.strip('xo'))"
   ]
  },
  {
   "cell_type": "markdown",
   "id": "0865e698-2ce5-4298-9fbd-02558f8fe7e2",
   "metadata": {},
   "source": [
    "The `.lstrip()` and `.rstrip()` methods work the same, but only strip from the left or right of a string, repectively."
   ]
  },
  {
   "cell_type": "code",
   "execution_count": 5,
   "id": "b9718a88-e045-4de0-b7b6-5f34653af3ee",
   "metadata": {},
   "outputs": [
    {
     "name": "stdout",
     "output_type": "stream",
     "text": [
      "123456789000000\n",
      "aaaaaaaaAlphabet\n"
     ]
    }
   ],
   "source": [
    "string = '00000123456789000000'\n",
    "print(string.lstrip('0'))\n",
    "\n",
    "string = 'aaaaaaaaAlphabetaaaa'\n",
    "print(string.rstrip('a'))"
   ]
  },
  {
   "cell_type": "markdown",
   "id": "92f0b554-184e-4273-a48a-bc27858088e3",
   "metadata": {},
   "source": [
    "### `.split()`\n",
    "\n",
    "This method splits a string into a list using a separator, or sep character."
   ]
  },
  {
   "cell_type": "code",
   "execution_count": 6,
   "id": "32fdb424-5ab6-4417-8445-150cfb00911a",
   "metadata": {},
   "outputs": [
    {
     "name": "stdout",
     "output_type": "stream",
     "text": [
      "['Hi', 'my', 'name', 'is', 'Guido']\n"
     ]
    }
   ],
   "source": [
    "string = 'Hi,my,name,is,Guido'\n",
    "print(string.split(','))"
   ]
  },
  {
   "cell_type": "markdown",
   "id": "72054af2-002c-469b-9f11-18b7f7307d25",
   "metadata": {},
   "source": [
    "### `.join()`\n",
    "\n",
    "This method does basically the opposite of `.split()`. It takes a `list` and concatenates every element with the `str`, as follows:"
   ]
  },
  {
   "cell_type": "code",
   "execution_count": 25,
   "id": "36b6ca07-b870-41d2-9ec7-046d768cc244",
   "metadata": {},
   "outputs": [
    {
     "name": "stdout",
     "output_type": "stream",
     "text": [
      "S.T.E.A.M\n",
      "one mississippi two mississippi three mississippi \n"
     ]
    }
   ],
   "source": [
    "print('.'.join(['S', 'T', 'E', 'A', 'M']))\n",
    "\n",
    "print(' mississippi '.join(['one', 'two', 'three', '']))"
   ]
  },
  {
   "cell_type": "markdown",
   "id": "4f214eb3-de3f-4008-9efa-51fbf92b7555",
   "metadata": {},
   "source": [
    "### `.replace()`\n",
    "This method replaces all matches of a substring with another string."
   ]
  },
  {
   "cell_type": "code",
   "execution_count": 9,
   "id": "1afd2dc6-c00f-4ddb-abe6-25e5fefd757a",
   "metadata": {},
   "outputs": [
    {
     "name": "stdout",
     "output_type": "stream",
     "text": [
      "HELLO BEES\n"
     ]
    }
   ],
   "source": [
    "string = 'H3LLO B33S'\n",
    "print(string.replace('3', 'E'))"
   ]
  },
  {
   "cell_type": "markdown",
   "id": "7ad37d19-b75a-4f5a-92d4-359d603ba7b6",
   "metadata": {},
   "source": [
    "### Changing case\n",
    "\n",
    "There are a bunch of methods to change the case of characters in a string, such as below:"
   ]
  },
  {
   "cell_type": "code",
   "execution_count": 10,
   "id": "bbbfa9df-9671-4760-9b31-664c2d72063f",
   "metadata": {},
   "outputs": [
    {
     "name": "stdout",
     "output_type": "stream",
     "text": [
      "THE QUICK BROWN FOX JUMPED OVER THE LAZY DOG.\n",
      "the quick brown fox jumped over the lazy dog.\n",
      "The Quick Brown Fox Jumped Over The Lazy Dog.\n",
      "tHE QUICK BROWN FOX JUMPED OVER THE LAZY DOG.\n"
     ]
    }
   ],
   "source": [
    "sentence = 'The quick brown fox jumped over the lazy dog.'\n",
    "\n",
    "print(sentence.upper())\n",
    "print(sentence.lower())\n",
    "print(sentence.title())\n",
    "print(sentence.swapcase())"
   ]
  },
  {
   "cell_type": "markdown",
   "id": "2f77aa0d-489d-4243-9cfd-cb56db969dcd",
   "metadata": {},
   "source": [
    "There are many other different built-in string methods which you might find useful!  \n",
    "You can check out tutorials like [this one](https://www.w3schools.com/python/python_ref_string.asp) to learn more.\n",
    "\n",
    "---\n",
    "## Problem 1.\n",
    "\n",
    "Write a function, `leetspeak()`, which converts a string using the following rules:\n",
    "- converts the string to ALLCAPS\n",
    "- all `'E'`s become `'3'`\n",
    "- all `'A'`s become `'4'`\n",
    "- all `'L'`s and `'I'`s become `'1'`\n",
    "- all `'T'`s become `'7'`\n",
    "- all `'S'`s become `'5'`\n",
    "- all `'O`'s become `'0'`\n",
    "The function should return the converted string.\n",
    "\n",
    "> **Hint:** You might find it convenient to use a `dict` and a **`for`** loop to solve this problem.\n",
    "\n",
    "For example:\n",
    "\n",
    "```\n",
    "sentence = 'All your base are belong to us.'\n",
    "leetspeak(sentence)\n",
    "\n",
    "'411 Y0UR B453 4R3 B310NG 70 U5.'\n",
    "```"
   ]
  },
  {
   "cell_type": "code",
   "execution_count": 15,
   "id": "673e9194-7193-4e42-a28c-8a9bf5b06f53",
   "metadata": {},
   "outputs": [
    {
     "data": {
      "text/plain": [
       "'411 Y0UR B453 4R3 B310NG 70 U5.'"
      ]
     },
     "execution_count": 15,
     "metadata": {},
     "output_type": "execute_result"
    }
   ],
   "source": [
    "###############################################\n",
    "### Write your function in the space below. ###\n",
    "#### Then run the cell to check your work. ####\n",
    "\n",
    "def leetspeak(string):\n",
    "    \n",
    "    conversion = {'E': '3', 'A': '4', 'L': '1', 'I': '1', 'T': '7', 'S': '5', 'O': '0'}\n",
    "    \n",
    "    string = string.upper()\n",
    "    \n",
    "    for letter, number in conversion.items():\n",
    "        string = string.replace(letter, number)\n",
    "    \n",
    "    return string\n",
    "\n",
    "###############################################\n",
    "\n",
    "sentence = 'All your base are belong to us.'\n",
    "leetspeak(sentence)"
   ]
  },
  {
   "cell_type": "markdown",
   "id": "eb17207f-e085-46e8-96c1-e9270cb01795",
   "metadata": {},
   "source": [
    "---\n",
    "## Raising `Exception`s\n",
    "\n",
    "By now you have probably encountered a lot of different bugs in your code and had Python tell you that you've triggered some kind of error.  \n",
    "This might feel annoying, but at the end of the day the point of these errors is to help you!  \n",
    "\n",
    "Sometimes you might want to tell yourself (or someone you're working with) about errors that they could encounter when using your code.  \n",
    "This is where `Exception`s come in.\n",
    "\n",
    "If you want to alert a user to behavior that is not allowed, you can `raise` an `Exception` as follows."
   ]
  },
  {
   "cell_type": "code",
   "execution_count": 16,
   "id": "488534b0-e730-4159-bad7-c87f46558ca8",
   "metadata": {},
   "outputs": [
    {
     "ename": "Exception",
     "evalue": "You can't have fewer than 0 apples!",
     "output_type": "error",
     "traceback": [
      "\u001b[0;31m---------------------------------------------------------------------------\u001b[0m",
      "\u001b[0;31mException\u001b[0m                                 Traceback (most recent call last)",
      "Cell \u001b[0;32mIn[16], line 5\u001b[0m\n\u001b[1;32m      2\u001b[0m     \u001b[38;5;28;01mif\u001b[39;00m num \u001b[38;5;241m<\u001b[39m \u001b[38;5;241m0\u001b[39m:\n\u001b[1;32m      3\u001b[0m         \u001b[38;5;28;01mraise\u001b[39;00m \u001b[38;5;167;01mException\u001b[39;00m(\u001b[38;5;124m\"\u001b[39m\u001b[38;5;124mYou can\u001b[39m\u001b[38;5;124m'\u001b[39m\u001b[38;5;124mt have fewer than 0 apples!\u001b[39m\u001b[38;5;124m\"\u001b[39m)\n\u001b[0;32m----> 5\u001b[0m \u001b[43mapple_crate\u001b[49m\u001b[43m(\u001b[49m\u001b[38;5;241;43m-\u001b[39;49m\u001b[38;5;241;43m1\u001b[39;49m\u001b[43m)\u001b[49m\n",
      "Cell \u001b[0;32mIn[16], line 3\u001b[0m, in \u001b[0;36mapple_crate\u001b[0;34m(num)\u001b[0m\n\u001b[1;32m      1\u001b[0m \u001b[38;5;28;01mdef\u001b[39;00m \u001b[38;5;21mapple_crate\u001b[39m(num):\n\u001b[1;32m      2\u001b[0m     \u001b[38;5;28;01mif\u001b[39;00m num \u001b[38;5;241m<\u001b[39m \u001b[38;5;241m0\u001b[39m:\n\u001b[0;32m----> 3\u001b[0m         \u001b[38;5;28;01mraise\u001b[39;00m \u001b[38;5;167;01mException\u001b[39;00m(\u001b[38;5;124m\"\u001b[39m\u001b[38;5;124mYou can\u001b[39m\u001b[38;5;124m'\u001b[39m\u001b[38;5;124mt have fewer than 0 apples!\u001b[39m\u001b[38;5;124m\"\u001b[39m)\n",
      "\u001b[0;31mException\u001b[0m: You can't have fewer than 0 apples!"
     ]
    }
   ],
   "source": [
    "def apple_crate(num):\n",
    "    if num < 0:\n",
    "        raise Exception(\"You can't have fewer than 0 apples!\")\n",
    "\n",
    "apple_crate(-1)"
   ]
  },
  {
   "cell_type": "markdown",
   "id": "33c1b47a-2e4c-40b5-a491-072a9be02c04",
   "metadata": {},
   "source": [
    "This can be a nice way to catch and prevent errors in your scripts when the wrong data types fall in. \n",
    "\n",
    "### Exception types\n",
    "\n",
    "An `Exception` can have a variety of types, such as `TypeError` or `ValueError`.  \n",
    "Assigning a type is usually more descriptive than \"throwing\" a generic `Exception`.  \n",
    "You can find a list of built-in error types [here](https://docs.python.org/3/library/exceptions.html#Exception).\n",
    "\n",
    "In the above case, we'd probably raise a `ValueError` instead of `Exception`."
   ]
  },
  {
   "cell_type": "code",
   "execution_count": 17,
   "id": "991a3ac7-e845-4d85-86b6-5db52d145dec",
   "metadata": {},
   "outputs": [
    {
     "ename": "ValueError",
     "evalue": "You can't have fewer than 0 apples!",
     "output_type": "error",
     "traceback": [
      "\u001b[0;31m---------------------------------------------------------------------------\u001b[0m",
      "\u001b[0;31mValueError\u001b[0m                                Traceback (most recent call last)",
      "Cell \u001b[0;32mIn[17], line 5\u001b[0m\n\u001b[1;32m      2\u001b[0m     \u001b[38;5;28;01mif\u001b[39;00m num \u001b[38;5;241m<\u001b[39m \u001b[38;5;241m0\u001b[39m:\n\u001b[1;32m      3\u001b[0m         \u001b[38;5;28;01mraise\u001b[39;00m \u001b[38;5;167;01mValueError\u001b[39;00m(\u001b[38;5;124m\"\u001b[39m\u001b[38;5;124mYou can\u001b[39m\u001b[38;5;124m'\u001b[39m\u001b[38;5;124mt have fewer than 0 apples!\u001b[39m\u001b[38;5;124m\"\u001b[39m)\n\u001b[0;32m----> 5\u001b[0m \u001b[43mapple_crate\u001b[49m\u001b[43m(\u001b[49m\u001b[38;5;241;43m-\u001b[39;49m\u001b[38;5;241;43m1\u001b[39;49m\u001b[43m)\u001b[49m\n",
      "Cell \u001b[0;32mIn[17], line 3\u001b[0m, in \u001b[0;36mapple_crate\u001b[0;34m(num)\u001b[0m\n\u001b[1;32m      1\u001b[0m \u001b[38;5;28;01mdef\u001b[39;00m \u001b[38;5;21mapple_crate\u001b[39m(num):\n\u001b[1;32m      2\u001b[0m     \u001b[38;5;28;01mif\u001b[39;00m num \u001b[38;5;241m<\u001b[39m \u001b[38;5;241m0\u001b[39m:\n\u001b[0;32m----> 3\u001b[0m         \u001b[38;5;28;01mraise\u001b[39;00m \u001b[38;5;167;01mValueError\u001b[39;00m(\u001b[38;5;124m\"\u001b[39m\u001b[38;5;124mYou can\u001b[39m\u001b[38;5;124m'\u001b[39m\u001b[38;5;124mt have fewer than 0 apples!\u001b[39m\u001b[38;5;124m\"\u001b[39m)\n",
      "\u001b[0;31mValueError\u001b[0m: You can't have fewer than 0 apples!"
     ]
    }
   ],
   "source": [
    "def apple_crate(num):\n",
    "    if num < 0:\n",
    "        raise ValueError(\"You can't have fewer than 0 apples!\")\n",
    "\n",
    "apple_crate(-1)"
   ]
  },
  {
   "cell_type": "markdown",
   "id": "44d2b93c-f0c0-401f-af52-8ac687c8ffd3",
   "metadata": {},
   "source": [
    "---\n",
    "### Problem 2.\n",
    "\n",
    "Data analysis often generates a _lot_ of files with related filenames.  \n",
    "\n",
    "Write a function `genome_namer()` with the following properties:\n",
    "- Takes a string that is a genome filename and a list of file types.\n",
    "- Check that the input filename ends in `.fa`, `.fasta`, `.fna`, and allow any case variations of those filetypes.\n",
    "    - If the filetype is wrong, raises an Exception.\n",
    "- Returns a dictionary of related output files where the original filetype is replaced by each of the filetypes in the list.\n",
    "\n",
    "For example:\n",
    "\n",
    "```python\n",
    "filetypes = ['blastdb', 'pep', 'chrom.sizes', 'gff']\n",
    "print(genome_namer('Chlamy.FA', filetypes))\n",
    "```\n",
    "`{'blastdb': 'Chlamy.blastdb', 'pep': 'Chlamy.pep', 'chrom.sizes': 'Chlamy.chrom.sizes', 'gff': 'Chlamy.gff'}`"
   ]
  },
  {
   "cell_type": "code",
   "execution_count": 30,
   "id": "2c06889e-0ab9-4fa2-9c73-93f543794f46",
   "metadata": {},
   "outputs": [
    {
     "name": "stdout",
     "output_type": "stream",
     "text": [
      "{'blastdb': 'Chlamy.blastdb', 'pep': 'Chlamy.pep', 'chrom.sizes': 'Chlamy.chrom.sizes', 'gff': 'Chlamy.gff'}\n"
     ]
    }
   ],
   "source": [
    "###############################################\n",
    "### Write your function in the space below. ###\n",
    "#### Then run the cell to check your work. ####\n",
    "\n",
    "def genome_namer(genome_file, filetypes):\n",
    "    \n",
    "    filetype = genome_file.split('.')[-1]\n",
    "    \n",
    "    if filetype.lower() not in ['fa', 'fna', 'fasta']:\n",
    "        raise Exception(genome_file + ' is not a FASTA file.')\n",
    "    else:\n",
    "        output = {}\n",
    "        \n",
    "        for kind in filetypes:\n",
    "            new_name = genome_file.replace(filetype, kind)\n",
    "            output[kind] = new_name\n",
    "        \n",
    "        return output\n",
    "\n",
    "###############################################\n",
    "\n",
    "filetypes = ['blastdb', 'pep', 'chrom.sizes', 'gff']\n",
    "print(genome_namer('Chlamy.FA', filetypes))"
   ]
  },
  {
   "cell_type": "markdown",
   "id": "51a36949-fec9-4052-9a87-541e288f0e8f",
   "metadata": {},
   "source": [
    "### Problem 3.\n",
    "\n",
    "Now that we understand more about conditionals and loops, let's try writing a better version of the `fortune()` script from the last problem set.  \n",
    "This new script should produce the same dialogue and functions as the previous script, and have the following additional behavior:\n",
    "- Checks whether the user inputs non-alphanumeric characters when asked for `name`.\n",
    "    > **Hint:** Check out the `.isalpha()` method [here](https://www.w3schools.com/python/ref_string_isalpha.asp).\n",
    "- Checks whether the user inputs a valid month in the Gregorian calendar in a case-insensitive manner.\n",
    "    - Displays the proper month format when responding.\n",
    "    > **Hint:** A `list` could be useful here.\n",
    "- Checks whether the user provides an `int` or a whole-number `float`.\n",
    "    - Displays the number as an integer when responding.\n",
    "    > **Hint:** There might be a method that does this... try finding it yourself!\n",
    "- If the input is invalid for any reason, prompts the user for input again.\n",
    "    > **Hint:** A **`while`** loop could help with this.\n",
    "\n",
    "\n",
    "For example:\n",
    "\n",
    "```python\n",
    "fortune()\n",
    "```\n",
    "```\n",
    "What is your name? GU1D0.\n",
    "Sorry... I don't quite understand.\n",
    "Can you try again with alphabetic characters?\n",
    "What is your name? Guido\n",
    "Nice to meet you, Guido.\n",
    "What month were you born in? banana\n",
    "Sorry, I don't think that's a month in the Gregorian calendar.\n",
    "Can you try to remember?\n",
    "What month were you born in? MArCH\n",
    "Ah... March... that's a very auspicious month.\n",
    "And what day in March were you born? 12.5\n",
    "Sorry, I don't think that's quite right.\n",
    "Could you try again?\n",
    "And what day in March were you born? 12.0\n",
    "I see... 12 is a number with important meaning.\n",
    "I'm looking into your future...\n",
    "It appears your lucky number is 1.\n",
    "```"
   ]
  },
  {
   "cell_type": "code",
   "execution_count": 33,
   "id": "7e379eb6-9db2-4cba-a7ac-03fc7be0d90f",
   "metadata": {},
   "outputs": [
    {
     "name": "stdin",
     "output_type": "stream",
     "text": [
      "What is your name? GU1D0.\n"
     ]
    },
    {
     "name": "stdout",
     "output_type": "stream",
     "text": [
      "Sorry... I don't quite understand.\n",
      "Can you try again with alphabetic characters?\n"
     ]
    },
    {
     "name": "stdin",
     "output_type": "stream",
     "text": [
      "What is your name? Guido\n"
     ]
    },
    {
     "name": "stdout",
     "output_type": "stream",
     "text": [
      "Nice to meet you, Guido.\n"
     ]
    },
    {
     "name": "stdin",
     "output_type": "stream",
     "text": [
      "What month were you born in? MArCH\n"
     ]
    },
    {
     "name": "stdout",
     "output_type": "stream",
     "text": [
      "Ah... March... that's a very auspicious month.\n"
     ]
    },
    {
     "name": "stdin",
     "output_type": "stream",
     "text": [
      "And what day in March were you born? 12.5\n"
     ]
    },
    {
     "name": "stdout",
     "output_type": "stream",
     "text": [
      "Sorry, I don't think that's quite right.\n",
      "Could you try again?\n"
     ]
    },
    {
     "name": "stdin",
     "output_type": "stream",
     "text": [
      "And what day in March were you born? 12\n"
     ]
    },
    {
     "name": "stdout",
     "output_type": "stream",
     "text": [
      "I see... 12 is a number with important meaning.\n",
      "I'm looking into your future...\n",
      "It appears that your lucky number is 1.\n"
     ]
    },
    {
     "data": {
      "text/plain": [
       "1"
      ]
     },
     "execution_count": 33,
     "metadata": {},
     "output_type": "execute_result"
    }
   ],
   "source": [
    "###############################################\n",
    "### Write your function in the space below. ###\n",
    "#### Then run the cell to check your work. ####\n",
    "\n",
    "def fortune():\n",
    "    flag1, flag2, flag3 = False, False, False\n",
    "    \n",
    "    while flag1 == False:\n",
    "        name = input('What is your name? ')\n",
    "        if name.isalpha():\n",
    "            flag1 = True\n",
    "            print('Nice to meet you, ' + str(name) + '.')\n",
    "        else:\n",
    "            print(\"Sorry... I don't quite understand.\")\n",
    "            print(\"Can you try again with alphabetic characters?\")\n",
    "    \n",
    "    while flag2 == False:\n",
    "        month = input('What month were you born in? ')\n",
    "        \n",
    "        months = ['january', 'february', 'march', 'april', 'may', 'june', 'july', 'august', 'september', 'october', 'november', 'december']\n",
    "        \n",
    "        if month.lower() in months:\n",
    "            flag2 = True\n",
    "            print('Ah... ' + str(month).title() + \"... that's a very auspicious month.\")\n",
    "        else:\n",
    "            print(\"Sorry, I don't think that's a month in the Gregorian calendar.\")\n",
    "            print(\"Can you try to remember?\")\n",
    "            \n",
    "    while flag3 == False:\n",
    "        day = input('And what day in ' + str(month).title() + ' were you born? ')\n",
    "        day_num = float(day)\n",
    "        \n",
    "        if (day_num).is_integer():\n",
    "            flag3 = True\n",
    "            print('I see... ' + str(int(day_num)) + ' is a number with important meaning.')\n",
    "        else:\n",
    "            print(\"Sorry, I don't think that's quite right.\")\n",
    "            print(\"Could you try again?\")\n",
    "                \n",
    "    print(\"I'm looking into your future...\")\n",
    "    lucky_number = (len(name) * len(month)) % int(day_num)\n",
    "    print('It appears that your lucky number is ' + str(lucky_number) + '.')\n",
    "    return lucky_number\n",
    "\n",
    "###############################################\n",
    "\n",
    "fortune()"
   ]
  }
 ],
 "metadata": {
  "kernelspec": {
   "display_name": "Python 3 (ipykernel)",
   "language": "python",
   "name": "python3"
  },
  "language_info": {
   "codemirror_mode": {
    "name": "ipython",
    "version": 3
   },
   "file_extension": ".py",
   "mimetype": "text/x-python",
   "name": "python",
   "nbconvert_exporter": "python",
   "pygments_lexer": "ipython3",
   "version": "3.10.9"
  }
 },
 "nbformat": 4,
 "nbformat_minor": 5
}
