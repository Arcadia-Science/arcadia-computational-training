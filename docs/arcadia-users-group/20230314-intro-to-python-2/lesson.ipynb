{
 "cells": [
  {
   "cell_type": "markdown",
   "id": "47c60269-9748-4d32-8099-4c5727df2bdd",
   "metadata": {
    "tags": []
   },
   "source": [
    "# Introduction to Python, Part 2\n",
    "\n",
    "---\n",
    "## 0. Loops and Conditionals\n",
    "\n",
    "This lesson is the second in a series of workshops that provide an introduction to programming using Python.\n",
    "\n",
    "**This lesson** builds on the foundation of lesson 1 and covers:\n",
    "- lists and dictionaries\n",
    "- methods\n",
    "- loops\n",
    "- booleans\n",
    "- conditional expressions"
   ]
  },
  {
   "cell_type": "markdown",
   "id": "12272038-4720-4423-89c4-bea0f4f6c953",
   "metadata": {},
   "source": [
    "---\n",
    "## 1. Data structures\n",
    "\n",
    "Often, when you're working with values in science, you're not just working with `x = 1` and `y = 2`, but instead with large amounts of data. Python offers a variety of data structures that aggregate data, including:\n",
    "\n",
    "- `list`s: ordered arrays of values.\n",
    "- `dict` or dictionaries: values ordered with key-value pairs.\n",
    "- `set`s: like lists, but each value can only occur once.\n",
    "- `tuple`s: like lists, but you can't modify the values.\n",
    "\n",
    "We'll first talk about `list` and `dict` structures, as they're the easiest and most intuitive to understand.\n",
    "\n",
    "---\n",
    "### 1.1 Lists\n",
    "You can create a `list` in Python using bracket notation, such as below."
   ]
  },
  {
   "cell_type": "code",
   "execution_count": 1,
   "id": "ebbed097-11db-4974-87fc-bae23aa14540",
   "metadata": {},
   "outputs": [],
   "source": [
    "lst = [1, 2, 3, 4, 5]"
   ]
  },
  {
   "cell_type": "markdown",
   "id": "bc060e1d-e5ff-4c25-bf91-c48b74fcbefa",
   "metadata": {},
   "source": [
    "To access a specific value in the list, such as `2`, you use the **index**, or the position of the value in the list, in bracket notation, as below.\n",
    "\n",
    "A key thing to remember in Python is that **lists are indexed starting with the index `[0]`**. So, if you wanted to get the value `2` from the list above, you would use an the index `[1]`."
   ]
  },
  {
   "cell_type": "code",
   "execution_count": 2,
   "id": "957893fc-18ee-4fb7-9cd4-4a1f83f724db",
   "metadata": {},
   "outputs": [
    {
     "data": {
      "text/plain": [
       "2"
      ]
     },
     "execution_count": 2,
     "metadata": {},
     "output_type": "execute_result"
    }
   ],
   "source": [
    "lst[1]"
   ]
  },
  {
   "cell_type": "markdown",
   "id": "f6b11eaf-c88e-4b32-9926-006b40515d0d",
   "metadata": {},
   "source": [
    "Lists are powerful because you can do **many** different operations with them using built-in functionality. For example, you can slice lists to get only specific elements using the colon operator `:`.\n",
    "\n",
    "To get the first through third elements of a list, you would use the following notation:"
   ]
  },
  {
   "cell_type": "code",
   "execution_count": 3,
   "id": "9de75218-ee62-4788-84bf-bc93092723fa",
   "metadata": {},
   "outputs": [
    {
     "data": {
      "text/plain": [
       "[1, 2, 3]"
      ]
     },
     "execution_count": 3,
     "metadata": {},
     "output_type": "execute_result"
    }
   ],
   "source": [
    "lst[0:3]"
   ]
  },
  {
   "cell_type": "markdown",
   "id": "190b3440-1888-4bd6-a42b-3ec6741eca8e",
   "metadata": {},
   "source": [
    "Note that, in the above example, the elements are extracted with a 'left-included, right-excluded' notation - the *fourth* element in the list, `4`, at index `3`, is not included.\n",
    "\n",
    "You can slice and index lists in some pretty interesting ways, such as in the examples below:"
   ]
  },
  {
   "cell_type": "code",
   "execution_count": 4,
   "id": "05e86552-2db9-4ba9-89d9-2c526927dfb7",
   "metadata": {},
   "outputs": [
    {
     "name": "stdout",
     "output_type": "stream",
     "text": [
      "[0, 1, 2]\n",
      "8\n",
      "[7, 8]\n"
     ]
    }
   ],
   "source": [
    "lst = [0, 1, 2, 3, 4, 5, 6, 7, 8]\n",
    "\n",
    "# The below expression is equivalent to lst[0:3].\n",
    "# It gives you everything from the start of the list up to the ending address.\n",
    "print(lst[:3])\n",
    "\n",
    "# The below expression gives you the last element in the list.\n",
    "print(lst[-1])\n",
    "\n",
    "# The below expression gives you the last two elements in the list.\n",
    "print(lst[-2:])"
   ]
  },
  {
   "cell_type": "markdown",
   "id": "3bf81bab-0131-45b9-adb7-7b16caa4c1fd",
   "metadata": {},
   "source": [
    "Note that accessing a slice of a `list` returns a list, whereas accessing a single element returns the value itself."
   ]
  },
  {
   "cell_type": "markdown",
   "id": "612c3b37-91b4-4aac-951d-f3ca763fc8ad",
   "metadata": {},
   "source": [
    "---\n",
    "### 1.2 List Methods\n",
    "\n",
    "Many data types in Python have special functions built-in to their data type. These special functions are called **methods** and are accessed using a dot operator, or period (`.`). For example, you can add new elements to a list using the `.append()` method."
   ]
  },
  {
   "cell_type": "code",
   "execution_count": 5,
   "id": "71f21da5-10ff-46cf-b7f4-bb75bce1f63d",
   "metadata": {},
   "outputs": [
    {
     "name": "stdout",
     "output_type": "stream",
     "text": [
      "['apple', 'orange', 'peach', 'pear', 'cherry']\n",
      "['apple', 'orange', 'peach', 'pear', 'cherry', 'coconut']\n"
     ]
    }
   ],
   "source": [
    "fruit_trees = ['apple', 'orange', 'peach', 'pear', 'cherry']\n",
    "print(fruit_trees)\n",
    "\n",
    "new_fruit = 'coconut'\n",
    "\n",
    "fruit_trees.append(new_fruit)\n",
    "\n",
    "print(fruit_trees)"
   ]
  },
  {
   "cell_type": "markdown",
   "id": "c8cb9b2a-05bc-4752-ae62-ff4a9ff11a91",
   "metadata": {},
   "source": [
    "There are many different list methods. You can take a look at some of them at the [Python documentation page](https://docs.python.org/3/tutorial/datastructures.html).\n",
    "\n",
    "### 1.3 List indexing tricks\n",
    "\n",
    "You can actually apply list indexing to certain other data types, such as `str`.  \n",
    "`str` objects can be treated like lists, where each character is an element of the list. For example:"
   ]
  },
  {
   "cell_type": "code",
   "execution_count": 6,
   "id": "58b766da-c9ac-46c9-813f-9a99ac6cea99",
   "metadata": {},
   "outputs": [
    {
     "name": "stdout",
     "output_type": "stream",
     "text": [
      "pine\n",
      "s\n"
     ]
    }
   ],
   "source": [
    "fruit = 'pineapples'\n",
    "\n",
    "print(fruit[0:4])\n",
    "print(fruit[-1])"
   ]
  },
  {
   "cell_type": "markdown",
   "id": "a33d0f98-d713-4007-b96d-2196ba8fd3ea",
   "metadata": {},
   "source": [
    "---\n",
    "### 1.4 Dictionaries\n",
    "\n",
    "Dictionaries are another data structure in Python, which allows for assigning a `key` to each `value` in the structure. Dictionaries are created using specific curly brace `{}` notation as below:"
   ]
  },
  {
   "cell_type": "code",
   "execution_count": 7,
   "id": "c52feb6a-39ce-49a7-b636-0d2b4a9adf79",
   "metadata": {},
   "outputs": [
    {
     "name": "stdout",
     "output_type": "stream",
     "text": [
      "{'Anabelle': 'peach', 'Becky': 'pear', 'Cole': 'coconut'}\n"
     ]
    }
   ],
   "source": [
    "# Dictionaries are instantiated using curly braces.\n",
    "# Each key-value pair in the dictionary is assigned using the notation:\n",
    "##  'key': 'value'\n",
    "# Entries are separated using commas.\n",
    "\n",
    "favorite_fruits = {'Anabelle': 'peach', 'Becky': 'pear', 'Cole': 'coconut'}\n",
    "\n",
    "print(favorite_fruits)"
   ]
  },
  {
   "cell_type": "markdown",
   "id": "01228990-8a38-485e-8c9b-3dfd2a0b8abb",
   "metadata": {},
   "source": [
    "To access the value in a dictionary, you index by the `key`.\n",
    "\n",
    "This returns the `value` assigned to that `key`."
   ]
  },
  {
   "cell_type": "code",
   "execution_count": 8,
   "id": "0f9715a8-6e21-488f-85d6-f4b761af540d",
   "metadata": {},
   "outputs": [
    {
     "data": {
      "text/plain": [
       "'peach'"
      ]
     },
     "execution_count": 8,
     "metadata": {},
     "output_type": "execute_result"
    }
   ],
   "source": [
    "favorite_fruits['Anabelle']"
   ]
  },
  {
   "cell_type": "markdown",
   "id": "85acc4cb-476b-46ae-acb3-07eef95f3bf4",
   "metadata": {},
   "source": [
    "Sometimes you might want just the keys or the values in your dictionary.  \n",
    "You can access those with the `.keys()` and `.values()` methods."
   ]
  },
  {
   "cell_type": "code",
   "execution_count": 9,
   "id": "2bb5fad2-f15b-410c-affb-8780649ab2e3",
   "metadata": {},
   "outputs": [
    {
     "name": "stdout",
     "output_type": "stream",
     "text": [
      "dict_keys(['Anabelle', 'Becky', 'Cole'])\n",
      "dict_values(['peach', 'pear', 'coconut'])\n"
     ]
    }
   ],
   "source": [
    "villagers = favorite_fruits.keys()\n",
    "print(villagers)\n",
    "\n",
    "fruits = favorite_fruits.values()\n",
    "print(fruits)"
   ]
  },
  {
   "cell_type": "markdown",
   "id": "2b26b600-ca3a-487e-ac57-ad1e1798eab7",
   "metadata": {},
   "source": [
    "These methods return special types of data structures: `dict_keys` and `dict_values`.  \n",
    "It's important to note that these are _not_ `list`s, and operations or methods that you can normally perform on lists might not work on these data structures.  \n",
    "\n",
    "However, you can always use typecasting to coerce `dict_keys` and `dict_values` structures into `list` format."
   ]
  },
  {
   "cell_type": "code",
   "execution_count": 10,
   "id": "54d5e7e9-c845-4135-a354-cd3e9dfaf1b3",
   "metadata": {},
   "outputs": [
    {
     "data": {
      "text/plain": [
       "['Anabelle', 'Becky', 'Cole']"
      ]
     },
     "execution_count": 10,
     "metadata": {},
     "output_type": "execute_result"
    }
   ],
   "source": [
    "list(villagers)"
   ]
  },
  {
   "cell_type": "markdown",
   "id": "098289ae-151f-4a60-a53e-99b891150254",
   "metadata": {
    "tags": []
   },
   "source": [
    "---\n",
    "## 2. Loops\n",
    "\n",
    "Often when working with scientific data, you might want to apply the same set of transformations to many different samples. You can repeat a process in Python and other programming languages using **loops**.\n",
    "\n",
    "---\n",
    "### 2.1 **`for`** loops\n",
    "\n",
    "A basic example of this approach is the **`for`** loop.  \n",
    "\n",
    "Let's say you had a bunch of different samples with different ID numbers, and you wanted to create a sample name as a string for each. You could take the following approach and manually do that transformation:"
   ]
  },
  {
   "cell_type": "code",
   "execution_count": 11,
   "id": "2d86f0c9-c0fc-4c63-befd-219adb5d37cb",
   "metadata": {},
   "outputs": [
    {
     "name": "stdout",
     "output_type": "stream",
     "text": [
      "sample_100 sample_231 sample_572\n"
     ]
    }
   ],
   "source": [
    "sample_ids = [100, 231, 572]\n",
    "\n",
    "sample_1 = 'sample_' + str(sample_ids[0])\n",
    "sample_2 = 'sample_' + str(sample_ids[1])\n",
    "sample_3 = 'sample_' + str(sample_ids[2])\n",
    "\n",
    "print(sample_1, sample_2, sample_3)"
   ]
  },
  {
   "cell_type": "markdown",
   "id": "75a92e04-aaf3-4329-b611-aa274d1036fb",
   "metadata": {},
   "source": [
    "A faster way to do this would be to use a **`for`** loop.\n",
    "\n",
    "The **`for`** loop will repeat for every element in a list, as below:"
   ]
  },
  {
   "cell_type": "code",
   "execution_count": 12,
   "id": "05fe31d0-4fbe-4070-9c99-94a345a59e0c",
   "metadata": {},
   "outputs": [
    {
     "name": "stdout",
     "output_type": "stream",
     "text": [
      "Ha\n",
      "Ha\n",
      "Ha\n"
     ]
    }
   ],
   "source": [
    "for i in [0, 1, 2]:\n",
    "    print('Ha')"
   ]
  },
  {
   "cell_type": "markdown",
   "id": "bdc32a8a-2779-4301-9ef7-ce1958dd9349",
   "metadata": {},
   "source": [
    "You can combine a **`for`** loop with your data structure to be able to iterate through your list, as follows:"
   ]
  },
  {
   "cell_type": "code",
   "execution_count": 13,
   "id": "292e30f8-a706-417d-b483-b3b6c2820624",
   "metadata": {},
   "outputs": [
    {
     "name": "stdout",
     "output_type": "stream",
     "text": [
      "['sample_100', 'sample_231', 'sample_572']\n"
     ]
    }
   ],
   "source": [
    "sample_ids = [100, 231, 572]\n",
    "sample_names = []\n",
    "\n",
    "for i in [0, 1, 2]:\n",
    "    sample_name = 'sample_' + str(sample_ids[i])\n",
    "    sample_names.append(sample_name)\n",
    "    \n",
    "print(sample_names)"
   ]
  },
  {
   "cell_type": "markdown",
   "id": "58a5568d-be69-421e-9d93-ff1fcc33fc56",
   "metadata": {},
   "source": [
    "The example code above differs from our first attempt in several ways.  \n",
    "Let's walk through what each of these changes is doing:\n",
    "- **We created an empty `sample_names` list.**  \n",
    "    Rather than creating a new variable for each sample name we're creating, we can store those values in a list that mirrors our `sample_ids` list.  \n",
    "    We create this empty list so that we have somewhere to put the new strings we're generating. We add those new values to the empty list using the `.append()` method.\n",
    "    \n",
    "- **We used a `for` loop to iterate through the original list.**  \n",
    "    In the original example, we manually added the string `'sample_'` and converted the `int` from sample_ids to a `str`. We accessed the values in `sample_ids` using the explicit index at each position, e.g. `[0]`, `[1]`, `[2]`.  \n",
    "    In the revised code, we instead use the **`for`** loop to do that tedious work for us. The loop assigns a variable `i` to a list of values, `[0, 1, 2]`. Every time the loop runs, it replaces the variable `i` in our code with one of the values in the list, in that exact order.\n",
    "    \n",
    "Hopefully you can see from this example how loops can help us automate repetitive processes. This also helps our code become much more readable."
   ]
  },
  {
   "cell_type": "markdown",
   "id": "a44f4bf7-377e-4836-9638-eafd9184b1a6",
   "metadata": {},
   "source": [
    "---\n",
    "### 2.2 Implicit iteration\n",
    "\n",
    "In a lot of programming languages, looping requires you to create a separate list of elements that are used for iteration, as in the previous example.  \n",
    "\n",
    "Python actually has a more helpful way of looping over elements - rather than creating a separate list, you can simply iterate over the list you care about. See the example below, where we want to print out the elements in the list `vegetables`:"
   ]
  },
  {
   "cell_type": "code",
   "execution_count": 14,
   "id": "1e82468e-72e0-42ed-81f4-e9ab26479e77",
   "metadata": {},
   "outputs": [
    {
     "name": "stdout",
     "output_type": "stream",
     "text": [
      "pumpkin\n",
      "potato\n",
      "tomato\n"
     ]
    }
   ],
   "source": [
    "vegetables = ['pumpkin', 'potato', 'tomato']\n",
    "\n",
    "for veg in vegetables:\n",
    "    print(veg)"
   ]
  },
  {
   "cell_type": "markdown",
   "id": "cf17e80f-470f-44f6-b859-62839c45f407",
   "metadata": {},
   "source": [
    "In the case above, instead of an arbitrary list `[0, 1, 2]`, we use the specific `vegetables` list we'd like to iterate across. Instead of the variable `i`, we create a different variable, `veg`, which takes on the value of each element of `vegetables` in each iteration of the loop.\n",
    "\n",
    "When iterating in this way, it's usually helpful to have a more explicit name such as `veg` than an unintuitive name such as `i`, as it helps contextualize what you're doing."
   ]
  },
  {
   "cell_type": "markdown",
   "id": "e2586a1a-9ff3-4dad-8b5e-e61e3d565375",
   "metadata": {},
   "source": [
    "---\n",
    "### 2.3 Loops using `dict`s\n",
    "\n",
    "In addition to iterating through loops using `list` data structures, we can also use `dict`s. You can understand some of the behavior of how this iteration happens using the example below:"
   ]
  },
  {
   "cell_type": "code",
   "execution_count": 15,
   "id": "6bc8f480-0b8a-414f-aef4-d4f62cb6c358",
   "metadata": {},
   "outputs": [
    {
     "name": "stdout",
     "output_type": "stream",
     "text": [
      "Marko\n",
      "Charlene\n",
      "Stu\n"
     ]
    }
   ],
   "source": [
    "favorite_vegetables = {'Marko': 'pumpkin', 'Charlene': 'potato', 'Stu': 'tomato'}\n",
    "\n",
    "for entry in favorite_vegetables:\n",
    "    print(entry)"
   ]
  },
  {
   "cell_type": "markdown",
   "id": "9919d2e1-7b08-44ae-923c-8ad6c7c6b1ad",
   "metadata": {},
   "source": [
    "You'll notice that iterating using a **`for`** loop across a dictionary iterates over the `key`s of that dictionary.\n",
    "\n",
    "If you wanted to access both the key and the value in the dictionary, you can use the `.items()` method of a `dict` data structure."
   ]
  },
  {
   "cell_type": "code",
   "execution_count": 16,
   "id": "b2ad8b7f-87be-42b6-8302-4d9bfdcc7061",
   "metadata": {},
   "outputs": [
    {
     "name": "stdout",
     "output_type": "stream",
     "text": [
      "Marko's favorite vegetable is pumpkin.\n",
      "Charlene's favorite vegetable is potato.\n",
      "Stu's favorite vegetable is tomato.\n"
     ]
    }
   ],
   "source": [
    "for villager, veg in favorite_vegetables.items():\n",
    "    print(villager + \"'s favorite vegetable is\", veg + '.')"
   ]
  },
  {
   "cell_type": "markdown",
   "id": "f90de77b-b83e-48de-8d1b-714e74ddd170",
   "metadata": {},
   "source": [
    "Rather than using a single variable such as `entry`, because `.items()` returns two values for every entry in the dictionary, we can unpack those paired values into two separate variables: `villager`, and `veg`."
   ]
  },
  {
   "cell_type": "markdown",
   "id": "0416b167-7fd2-444a-9db6-7a571b79afb3",
   "metadata": {},
   "source": [
    "---\n",
    "### 2.4 **`while`** loops\n",
    "\n",
    "Another type of helpful loop in Python is the **`while`** loop. Unlike the **`for`** loop, which requires you to explicitly state what you're iterating over, a **`while`** loop continues as long as a conditional statement is `True`. For example:"
   ]
  },
  {
   "cell_type": "code",
   "execution_count": 17,
   "id": "cdd46139-a17d-4039-97ec-5fc5c98b7ba9",
   "metadata": {},
   "outputs": [
    {
     "name": "stdout",
     "output_type": "stream",
     "text": [
      "0\n",
      "1\n",
      "2\n"
     ]
    }
   ],
   "source": [
    "a = [0, 1, 2, 3, 4]\n",
    "i = 0\n",
    "\n",
    "while a[i] < 3:\n",
    "    print(a[i])\n",
    "    i += 1    # The += operator adds the value on the right and updates the original variable."
   ]
  },
  {
   "cell_type": "markdown",
   "id": "e90f11d1-deef-4e38-805b-442874657c6a",
   "metadata": {},
   "source": [
    "In the above example, there are a number of different things happening.  \n",
    "Prior to the loop, we specify a variable `i`. At the end of each entry in the loop, we increment `i` by 1 in order to step through the list `a`.\n",
    "\n",
    "How do we know when to stop? Take a look at the **`while`** statement:\n",
    "```python\n",
    "while a[i] < 3:\n",
    "```\n",
    "This means that as long as the entry at index `[i]` in list `[a]` is less than 3, we continue through the loop, printing the value of `a[i]`.\n",
    "\n",
    "As soon as we arrive at `i = 3`, at the top of the **`while`** loop, we get the value `a[i] = 3`, which is NOT less than `3`. Therefore, the **`while`** loop terminates, and the value `3` is never printed.\n",
    "\n",
    "**`while`** loops can be very powerful for a class of Python functions that rely on recursion, but you can also easily end up writing functions that \"hang\", or run forever without stopping."
   ]
  },
  {
   "cell_type": "markdown",
   "id": "0bf7ae61-83d8-4e3c-81e0-05ac9dd99d85",
   "metadata": {},
   "source": [
    "## P1. Practice\n",
    "\n",
    "Let's explore lists, dictionaries, and loops.\n",
    "\n",
    "> ### Practice 1\n",
    "> Write a function called `greetings()` that takes two arguments: `greeting` and `name` and returns the string `'Greeting, Name!'`\n",
    "\n",
    "<details>\n",
    "<summary> Practice 3 Sample Answer </summary>\n",
    "    <pre><code><b>def</b> greetings(greeting, name):\n",
    "    <b>return</b> greeting + ', ' + name + '!'\n",
    "</code></pre>\n",
    "</details>\n"
   ]
  },
  {
   "cell_type": "code",
   "execution_count": 18,
   "id": "bc1978cc-2b79-47c4-b817-4d505ea69c96",
   "metadata": {},
   "outputs": [
    {
     "ename": "NameError",
     "evalue": "name 'greetings' is not defined",
     "output_type": "error",
     "traceback": [
      "\u001b[0;31m---------------------------------------------------------------------------\u001b[0m",
      "\u001b[0;31mNameError\u001b[0m                                 Traceback (most recent call last)",
      "Cell \u001b[0;32mIn[18], line 13\u001b[0m\n\u001b[1;32m     10\u001b[0m greeting \u001b[38;5;241m=\u001b[39m \u001b[38;5;124m'\u001b[39m\u001b[38;5;124mBonjour\u001b[39m\u001b[38;5;124m'\u001b[39m\n\u001b[1;32m     11\u001b[0m name \u001b[38;5;241m=\u001b[39m \u001b[38;5;124m'\u001b[39m\u001b[38;5;124mJacques\u001b[39m\u001b[38;5;124m'\u001b[39m\n\u001b[0;32m---> 13\u001b[0m \u001b[43mgreetings\u001b[49m(greeting, name)\n",
      "\u001b[0;31mNameError\u001b[0m: name 'greetings' is not defined"
     ]
    }
   ],
   "source": [
    "###########################################\n",
    "# Write your function in the space below. #\n",
    "## Then run the cell to check your work. ##\n",
    "\n",
    "\n",
    "\n",
    "\n",
    "###########################################\n",
    "\n",
    "greeting = 'Bonjour'\n",
    "name = 'Jacques'\n",
    "\n",
    "greetings(greeting, name)"
   ]
  },
  {
   "cell_type": "markdown",
   "id": "9ebcb449-4255-4dbd-a345-cc2a6f358179",
   "metadata": {},
   "source": [
    "> ### Practice 4\n",
    "> What happens if you pass the variable `x` below to your `greetings()` function?\n",
    ">\n",
    "> How could you modify the function to avoid this error?\n",
    "\n",
    "<details>\n",
    "<summary> Practice 4 Sample Answer </summary>\n",
    "    <pre><code><b>def</b> greetings(greeting, name):\n",
    "    <b>return</b> greeting + ', ' + str(name) + '!'\n",
    "</code></pre>\n",
    "</details>"
   ]
  },
  {
   "cell_type": "code",
   "execution_count": 19,
   "id": "529211c5-8c94-4132-8eb4-65e667e9e3f7",
   "metadata": {},
   "outputs": [
    {
     "ename": "NameError",
     "evalue": "name 'greetings' is not defined",
     "output_type": "error",
     "traceback": [
      "\u001b[0;31m---------------------------------------------------------------------------\u001b[0m",
      "\u001b[0;31mNameError\u001b[0m                                 Traceback (most recent call last)",
      "Cell \u001b[0;32mIn[19], line 12\u001b[0m\n\u001b[1;32m      1\u001b[0m \u001b[38;5;66;03m###############################################\u001b[39;00m\n\u001b[1;32m      2\u001b[0m \u001b[38;5;66;03m# Write your new function in the space below. #\u001b[39;00m\n\u001b[1;32m      3\u001b[0m \u001b[38;5;66;03m#### Then run the cell to check your work. ####\u001b[39;00m\n\u001b[0;32m   (...)\u001b[0m\n\u001b[1;32m      7\u001b[0m \n\u001b[1;32m      8\u001b[0m \u001b[38;5;66;03m###############################################\u001b[39;00m\n\u001b[1;32m     10\u001b[0m robot_name \u001b[38;5;241m=\u001b[39m \u001b[38;5;241m120\u001b[39m\n\u001b[0;32m---> 12\u001b[0m \u001b[43mgreetings\u001b[49m(greeting, robot_name)\n",
      "\u001b[0;31mNameError\u001b[0m: name 'greetings' is not defined"
     ]
    }
   ],
   "source": [
    "###############################################\n",
    "# Write your new function in the space below. #\n",
    "#### Then run the cell to check your work. ####\n",
    "\n",
    "\n",
    "\n",
    "\n",
    "###############################################\n",
    "\n",
    "robot_name = 120\n",
    "\n",
    "greetings(greeting, robot_name)"
   ]
  },
  {
   "cell_type": "code",
   "execution_count": null,
   "id": "e37d2fb1-1a93-4f0a-a5ee-33a3a3024542",
   "metadata": {},
   "outputs": [],
   "source": []
  },
  {
   "cell_type": "markdown",
   "id": "a829e1fb-d804-4571-afea-433a96606153",
   "metadata": {
    "tags": []
   },
   "source": [
    "---\n",
    "## 3. Booleans\n",
    "\n",
    "In the previous lesson, we covered some basic data types such as `int`, `float`, and `str`. In this lesson, we've also covered data structures such as `list` and `dict`. One major data type that we haven't yet discussed is the `bool`, or Boolean.\n",
    "\n",
    "`bool` values are `True` or `False` and are crucial to a lot of what gives programming languages power and flexibility to manage different types of scenarios.\n",
    "\n",
    "`bool` values also have their own specific **operands** which can be used to build logic into our code. You can see some examples in the code below.\n",
    "\n",
    "---\n",
    "\n",
    "### 3.1 Equal\n",
    "\n",
    "To check if two values are equivalent, you can use the `==` operand.  \n",
    "This evaluates to `True` if the two values are equal and `False` if they are not."
   ]
  },
  {
   "cell_type": "code",
   "execution_count": 20,
   "id": "df2c1824-baef-406f-92f3-c5bda7459220",
   "metadata": {},
   "outputs": [
    {
     "name": "stdout",
     "output_type": "stream",
     "text": [
      "True\n",
      "False\n",
      "True\n"
     ]
    }
   ],
   "source": [
    "print(1 == 1)\n",
    "\n",
    "print(1 == '1')\n",
    "\n",
    "x = 'apple'\n",
    "print(x == 'apple')"
   ]
  },
  {
   "cell_type": "markdown",
   "id": "9ed13fb2-2e0a-4bb7-9484-a2bf35eee427",
   "metadata": {},
   "source": [
    "### 3.2 Not Equal\n",
    "\n",
    "The opposite of the `==` operand is the `!=` operand, which returns `True` if the values are NOT equal.\n"
   ]
  },
  {
   "cell_type": "code",
   "execution_count": 21,
   "id": "e876dc80-4d6f-47e3-ad87-dc779f8ddc33",
   "metadata": {},
   "outputs": [
    {
     "name": "stdout",
     "output_type": "stream",
     "text": [
      "False\n",
      "True\n"
     ]
    }
   ],
   "source": [
    "print(1 != 1)\n",
    "\n",
    "print(1 != '1')"
   ]
  },
  {
   "cell_type": "markdown",
   "id": "112d4a96-80a7-4eea-94bc-b71f4e515d8c",
   "metadata": {},
   "source": [
    "### 3.3. Greater Than or Less Than\n",
    "\n",
    "You can also perform comparison between two values using expressions such as `>`, `<`, `>=`, and `<=`."
   ]
  },
  {
   "cell_type": "code",
   "execution_count": 22,
   "id": "bd07988b-ec23-4af1-831e-9119477785b7",
   "metadata": {},
   "outputs": [
    {
     "name": "stdout",
     "output_type": "stream",
     "text": [
      "True\n",
      "False\n",
      "True\n"
     ]
    }
   ],
   "source": [
    "print(1 < 2)\n",
    "\n",
    "print(1 > 2)\n",
    "\n",
    "print(2 <= 2.0)"
   ]
  },
  {
   "cell_type": "markdown",
   "id": "a8792c9b-4da3-4441-b355-04dbe996954c",
   "metadata": {},
   "source": [
    "### 3.4 **`and`** and **`or`**\n",
    "\n",
    "You can also chain together boolean expressions using the operands **`and`** and **`or`**.\n",
    "- The **`and`** operator only returns `True` if BOTH of the elements are `True`.\n",
    "- the **`or`** operator returns `True` if EITHER of the elements are `True`."
   ]
  },
  {
   "cell_type": "code",
   "execution_count": 23,
   "id": "08cd78b4-5080-4f21-99e3-a994ea9311eb",
   "metadata": {},
   "outputs": [
    {
     "name": "stdout",
     "output_type": "stream",
     "text": [
      "True\n",
      "True\n"
     ]
    }
   ],
   "source": [
    "print(1 == 1 and 2 == 2)\n",
    "\n",
    "print(1 == 1 or 2 == 3)"
   ]
  },
  {
   "cell_type": "markdown",
   "id": "832abf3f-96d7-4e34-8f91-3989ce6ed5fa",
   "metadata": {},
   "source": [
    "### 3.5 **`not`**\n",
    "\n",
    "The **`not`** operand gives the inverse of a boolean expression."
   ]
  },
  {
   "cell_type": "code",
   "execution_count": 24,
   "id": "31f17b19-825c-4bde-bebc-aa2a286620f7",
   "metadata": {},
   "outputs": [
    {
     "name": "stdout",
     "output_type": "stream",
     "text": [
      "False\n"
     ]
    }
   ],
   "source": [
    "print(not (1 == 1 and 2 == 2))"
   ]
  },
  {
   "cell_type": "markdown",
   "id": "f9973ddf-ed94-43b9-ba68-71bd3acc42e3",
   "metadata": {},
   "source": [
    "### 3.6 Checking membership with **`in`**\n",
    "\n",
    "The **`in`** operand searches for values in data structures such as `list` or `dict`.  \n",
    "It can also be used to search for substrings within `str`."
   ]
  },
  {
   "cell_type": "code",
   "execution_count": 25,
   "id": "484c1d4a-8a03-4592-9c67-46c46ea31af7",
   "metadata": {},
   "outputs": [
    {
     "name": "stdout",
     "output_type": "stream",
     "text": [
      "True\n",
      "True\n",
      "False\n"
     ]
    }
   ],
   "source": [
    "pasture = ['sheep', 'sheep', 'sheep', 'wolf', 'sheep', 'sheep']\n",
    "\n",
    "print('wolf' in pasture)\n",
    "\n",
    "sentence = 'The quick brown fox jumped over the lazy dog.'\n",
    "\n",
    "print('dog' in sentence)\n",
    "print('monkey' in sentence)"
   ]
  },
  {
   "cell_type": "markdown",
   "id": "8fb845c3-1cc5-4dd8-ad52-0b9dae1e4fe8",
   "metadata": {},
   "source": [
    "These Boolean operations are *crucial* to the logic that underpins programming. They are also the backbone of conditional expressions, which allow us to have a Python script make decisions."
   ]
  },
  {
   "cell_type": "markdown",
   "id": "a011a8ed-59b9-47ea-8cf0-c28b4cded78c",
   "metadata": {},
   "source": [
    "---\n",
    "## 4. Conditional expressions\n",
    "\n",
    "When working with data, you don't always want to perform the same transformations to every feature of the data. Sometimes, you want to select only specific aspects of the data and manipulate those. Using boolean expressions, we can generate conditional code.\n",
    "\n",
    "For example, we could determine whether a value falls within a specific range using an `if` statement.\n",
    "\n",
    "### 4.1. **`if`** this, **`else`** that\n",
    "\n",
    "We can use **`if`** statements to choose how Python will proceed, as in the example below."
   ]
  },
  {
   "cell_type": "code",
   "execution_count": 26,
   "id": "eedebd94-e080-4da7-91ae-5b4f13b54eff",
   "metadata": {},
   "outputs": [
    {
     "name": "stdout",
     "output_type": "stream",
     "text": [
      "Value is between 7 and 12.\n"
     ]
    }
   ],
   "source": [
    "value = 10\n",
    "\n",
    "if value <= 7:\n",
    "    print('Value is less than or equal to 7.')\n",
    "elif value > 7 and value < 12:\n",
    "    print('Value is between 7 and 12.')\n",
    "else:\n",
    "    print('Value is greater than 12.')"
   ]
  },
  {
   "cell_type": "markdown",
   "id": "024022f8-6ab6-49b1-aa21-792fdc88554a",
   "metadata": {},
   "source": [
    "In the example above, you can see the three major types of conditional expressions associated with an **`if`** statement:\n",
    "- **`if`**: If this expression evaluates as True, do the thing in the first indented block.\n",
    "- **`elif`**: If the **`if`** statement is False, and this is True, do the thing in the second indented block.\n",
    "- **`else`**: If all other **`if`** and **`elif`** statements are false, do the thing in the last indented block.\n",
    "\n",
    "### 4.2 Bringing it all together\n",
    "\n",
    "The above example might seem a bit silly, because we can already tell in advance where `10` is relative to `7` and `12`.  \n",
    "\n",
    "But you could also write this code in a different way to be able to set the values of the high and low bar."
   ]
  },
  {
   "cell_type": "code",
   "execution_count": 27,
   "id": "1a7e0789-cc82-4c28-af4f-27be8d74eee8",
   "metadata": {},
   "outputs": [
    {
     "name": "stdout",
     "output_type": "stream",
     "text": [
      "10 is less than or equal to 10.\n"
     ]
    }
   ],
   "source": [
    "value = 10\n",
    "\n",
    "upper = 18\n",
    "lower = 10\n",
    "\n",
    "if value <= lower:\n",
    "    print(value, 'is less than or equal to', str(lower) + '.')\n",
    "elif value > lower and value < upper:\n",
    "    print(value, 'is between', str(lower), 'and', str(upper) + '.')\n",
    "else:\n",
    "    print(value, 'is greater than', str(upper) + '.')"
   ]
  },
  {
   "cell_type": "markdown",
   "id": "9180041e-52ea-4169-aa54-51b0479ceacb",
   "metadata": {},
   "source": [
    "You could make this code more reusable by turning it into a function."
   ]
  },
  {
   "cell_type": "code",
   "execution_count": 28,
   "id": "d78adc20-6703-46ec-b3c9-64e8d30c4c28",
   "metadata": {},
   "outputs": [
    {
     "name": "stdout",
     "output_type": "stream",
     "text": [
      "10 is between 5 and 30.\n"
     ]
    }
   ],
   "source": [
    "def goldilocks(upper, lower, value):\n",
    "    if value <= lower:\n",
    "        print(value, 'is less than or equal to', str(lower) + '.')\n",
    "    elif value > lower and value < upper:\n",
    "        print(value, 'is between', str(lower), 'and', str(upper) + '.')\n",
    "    else:\n",
    "        print(value, 'is greater than', str(upper) + '.')\n",
    "    return None\n",
    "\n",
    "value = 10\n",
    "upper = 30\n",
    "lower = 5\n",
    "\n",
    "goldilocks(upper, lower, value)"
   ]
  },
  {
   "cell_type": "markdown",
   "id": "05a1bd48-04d0-4c04-8199-8d71ccbb2812",
   "metadata": {},
   "source": [
    "And, if you combined this function call with a **`for`** loop, you could easily apply the same function to a variety of different numbers."
   ]
  },
  {
   "cell_type": "code",
   "execution_count": 29,
   "id": "d477e193-b2ed-4d7f-87df-c31d7694d1b1",
   "metadata": {},
   "outputs": [
    {
     "name": "stdout",
     "output_type": "stream",
     "text": [
      "5 is less than or equal to 7.\n",
      "6 is less than or equal to 7.\n",
      "10 is between 7 and 20.\n",
      "30 is greater than 20.\n",
      "60 is greater than 20.\n",
      "1 is less than or equal to 7.\n"
     ]
    }
   ],
   "source": [
    "values = [5, 6, 10, 30, 60, 1]\n",
    "upper = 20\n",
    "lower = 7\n",
    "\n",
    "for value in values:\n",
    "    goldilocks(upper, lower, value)"
   ]
  },
  {
   "cell_type": "markdown",
   "id": "75d20427-3455-4ee1-8afe-cdd17e72a9de",
   "metadata": {},
   "source": [
    "### 4.3 Doing nothing\n",
    "\n",
    "Sometimes, when combining a conditional and a loop, you want the loop to do nothing at all.  \n",
    "In this specific situation, you can force a loop to **`continue`**.\n",
    "\n",
    "For example, let's say you had a list of names and wanted to add a number to only the ones beginning with `'C'` and return those."
   ]
  },
  {
   "cell_type": "code",
   "execution_count": 36,
   "id": "d91507de-e5f4-49e7-b629-c825941913a1",
   "metadata": {},
   "outputs": [
    {
     "name": "stdout",
     "output_type": "stream",
     "text": [
      "['Celine_01', 'Charli_01']\n"
     ]
    }
   ],
   "source": [
    "names = ['Celine', 'Britney', 'Stefani', 'Rina', 'Charli', 'Billie']\n",
    "output = []\n",
    "\n",
    "for name in names:\n",
    "    if name[0] == 'C':\n",
    "        output.append(name + '_01')\n",
    "    else:\n",
    "        continue\n",
    "\n",
    "print(output)"
   ]
  },
  {
   "cell_type": "markdown",
   "id": "db8fc817-234e-46f6-b83e-2d17ca305c83",
   "metadata": {},
   "source": [
    "### 4.4 Other conditional statements\n",
    "\n",
    "There are other types of conditional statements in Python which you'll encounter less frequently, but can still be very helpful:\n",
    "\n",
    "- **`try`** **`except`** **`finally`**: tries to do something, unless it returns an error. If an error occurs, runs the **`except`** statement. at the end of each attempt, do a thing."
   ]
  },
  {
   "cell_type": "code",
   "execution_count": 4,
   "id": "b5932d3f-4090-4b63-acdd-75ca7611caea",
   "metadata": {},
   "outputs": [
    {
     "name": "stdout",
     "output_type": "stream",
     "text": [
      "Cannot divide - wrong value type.\n",
      "---\n",
      "0.3333333333333333\n",
      "---\n",
      "1.0\n",
      "---\n",
      "Cannot divide - wrong value type.\n",
      "---\n",
      "Cannot divide - wrong value type.\n",
      "---\n",
      "1.0\n",
      "---\n"
     ]
    }
   ],
   "source": [
    "values = ['a', 1, 3, '5', 'q', 3.0]\n",
    "\n",
    "for value in values:\n",
    "    try:\n",
    "        print(value / 3)\n",
    "    except TypeError:\n",
    "        print(\"Cannot divide - wrong value type.\")\n",
    "    finally:\n",
    "        print(\"---\")"
   ]
  },
  {
   "cell_type": "markdown",
   "id": "d96a46bd-b218-4303-97f9-219f119f8076",
   "metadata": {},
   "source": [
    "- **`match`** **`case`**: works very similarly to an if - elif - else statement, but can be much easier to read when you have specific expected outcomes. See example [here](https://learnpython.com/blog/python-match-case-statement/).\n",
    "\n",
    "> **NOTE:** match - case statements are still very new to Python 3.10, so Jupyter doesn't have syntax highlighting for them yet.\n",
    "\n",
    "- **`with`** `open()`: used for opening files. We'll cover this in lesson 3!"
   ]
  },
  {
   "cell_type": "markdown",
   "id": "144efff5-24ee-48ce-b10d-96c71c679331",
   "metadata": {},
   "source": [
    "---\n",
    "## 5. Problem Set\n",
    "\n",
    "With a wealth of data types, functions, loops, and conditional expressions at your disposal, you can accomplish **many** different computations using Python.  \n",
    "\n",
    "This week's problem set features several open-ended problems that you can solve in many different ways.  \n",
    "Some will revisit and revise the code you wrote in Problem Set 1.  \n",
    "Hopefully you'll be able to write some fun and interesting code and feel empowered by Python programming!"
   ]
  },
  {
   "cell_type": "code",
   "execution_count": null,
   "id": "4f4ed960-555b-4253-8787-4830cd1fc3aa",
   "metadata": {},
   "outputs": [],
   "source": []
  }
 ],
 "metadata": {
  "kernelspec": {
   "display_name": "Python 3 (ipykernel)",
   "language": "python",
   "name": "python3"
  },
  "language_info": {
   "codemirror_mode": {
    "name": "ipython",
    "version": 3
   },
   "file_extension": ".py",
   "mimetype": "text/x-python",
   "name": "python",
   "nbconvert_exporter": "python",
   "pygments_lexer": "ipython3",
   "version": "3.11.0"
  }
 },
 "nbformat": 4,
 "nbformat_minor": 5
}
