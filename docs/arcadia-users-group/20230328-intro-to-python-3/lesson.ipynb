{
 "cells": [
  {
   "cell_type": "markdown",
   "id": "47c60269-9748-4d32-8099-4c5727df2bdd",
   "metadata": {
    "tags": []
   },
   "source": [
    "# Introduction to Python, Part 3\n",
    "\n",
    "Follow along in **Binder** by clicking the badge below:  \n",
    "\n",
    "[![Binder](https://mybinder.org/badge_logo.svg)](https://mybinder.org/v2/gh/Arcadia-Science/arcadia-computational-training/das/pytutorial?labpath=docs%2Farcadia-users-group%2F20230328-intro-to-python-3%2Flesson.ipynb)\n",
    "\n",
    "---\n",
    "## 0. Packages\n",
    "\n",
    "This lesson is the third in a series of workshops that provide an introduction to programming using Python.\n",
    "\n",
    "**This lesson** builds on the foundation of lessons 1 and 2 and covers:\n",
    "- packages (also known as libraries)\n",
    "- interfacing with files using **`os`**\n",
    "- running from the command line with **`subprocess`**\n",
    "- mathematical operations with **`math`**\n",
    "- file I/O (input/output) using `open()`\n",
    "- plotting using **`matplotlib`**\n",
    "- `DataFrame` operations using **`pandas`**"
   ]
  },
  {
   "cell_type": "markdown",
   "id": "12272038-4720-4423-89c4-bea0f4f6c953",
   "metadata": {},
   "source": [
    "---\n",
    "## 1. Built-in Packages\n",
    "\n",
    "Using the basics of Python we've learned so far, it's possible to perform _many_ operations you might want to deal with in Python. In theory, you could probably write a script or function to do just about anything you wanted using just base Python language.  \n",
    "\n",
    "However, that would probably not be an efficient use of your time!  \n",
    "\n",
    "It turns out that there are many built-in packages that Python provides to do more complex things, built upon the Python language.\n",
    "\n",
    "---\n",
    "### 1.1 File handling with **`os`**\n",
    "Importing a package in Python is pretty straightforward. Below, we import the **`os`** package."
   ]
  },
  {
   "cell_type": "code",
   "execution_count": 1,
   "id": "ebbed097-11db-4974-87fc-bae23aa14540",
   "metadata": {},
   "outputs": [],
   "source": [
    "import os"
   ]
  },
  {
   "cell_type": "markdown",
   "id": "00a7df9a-1f02-4702-be89-0e7b8510d180",
   "metadata": {},
   "source": [
    "That wasn't so bad, was it?  \n",
    "\n",
    "Let's explore some of the functions of the **`os`** package.  \n",
    "The function `os.getcwd()` returns the current working directory your script or Jupyter notebook is located in.  \n",
    "You might notice that we access this function using a dot `.` operator, much like we use when accessing the method of a data type, such as `list.append()`."
   ]
  },
  {
   "cell_type": "code",
   "execution_count": 2,
   "id": "9de75218-ee62-4788-84bf-bc93092723fa",
   "metadata": {},
   "outputs": [
    {
     "data": {
      "text/plain": [
       "'/home/ec2-user/arcadia-computational-training/docs/arcadia-users-group/20230314-intro-to-python-3'"
      ]
     },
     "execution_count": 2,
     "metadata": {},
     "output_type": "execute_result"
    }
   ],
   "source": [
    "os.getcwd()"
   ]
  },
  {
   "cell_type": "markdown",
   "id": "c3013eae-c52f-4bb5-9b45-5b64c0cdb6e3",
   "metadata": {},
   "source": [
    "Another helpful function is `os.listdir()`, which returns a list of all files in the current directory."
   ]
  },
  {
   "cell_type": "code",
   "execution_count": 3,
   "id": "b248a0c1-67e6-40cb-a6b2-f788a6a2d87f",
   "metadata": {},
   "outputs": [
    {
     "data": {
      "text/plain": [
       "['lesson.ipynb', '.ipynb_checkpoints', 'hello.txt', 'practice2.txt']"
      ]
     },
     "execution_count": 3,
     "metadata": {},
     "output_type": "execute_result"
    }
   ],
   "source": [
    "os.listdir()"
   ]
  },
  {
   "cell_type": "markdown",
   "id": "190b3440-1888-4bd6-a42b-3ec6741eca8e",
   "metadata": {},
   "source": [
    "You can find more information about the functions in **`os`** using [Python's web documentation](https://docs.python.org/3/library/os.html).  \n",
    "Most of the functions in `os` are not things we'd need to use for biological data analysis.  \n",
    "The most useful part of `os` for us is actually one of its **modules**. \n",
    "\n",
    "A **module** is a sub-collection of functions within a package.  \n",
    "You can access modules in the same way you access the methods of a data type, using a dot `.` operator.\n",
    "\n",
    "A particularly useful module of **`os`** is **`os.path`**. You can find its web documentation [here](https://docs.python.org/3/library/os.path.html#module-os.path).  \n",
    "For example, you can use the `os.path.exists()` function to see if a file exists at a specific location."
   ]
  },
  {
   "cell_type": "code",
   "execution_count": 4,
   "id": "05e86552-2db9-4ba9-89d9-2c526927dfb7",
   "metadata": {},
   "outputs": [
    {
     "data": {
      "text/plain": [
       "True"
      ]
     },
     "execution_count": 4,
     "metadata": {},
     "output_type": "execute_result"
    }
   ],
   "source": [
    "os.path.exists('hello.txt')"
   ]
  },
  {
   "cell_type": "markdown",
   "id": "f09b8ac6-260a-4696-ac18-01cd6e3a18e0",
   "metadata": {},
   "source": [
    "You can also use `os.path` to get the path to a specific file in both absolute and relative formats."
   ]
  },
  {
   "cell_type": "code",
   "execution_count": 5,
   "id": "4f46a676-1618-4e02-9cb7-51568f20734c",
   "metadata": {},
   "outputs": [
    {
     "name": "stdout",
     "output_type": "stream",
     "text": [
      "hello.txt\n",
      "/home/ec2-user/arcadia-computational-training/docs/arcadia-users-group/20230314-intro-to-python-3/hello.txt\n"
     ]
    }
   ],
   "source": [
    "# Prints the relative path to the file\n",
    "print(os.path.relpath('hello.txt'))\n",
    "\n",
    "# Prints the absolute path to the file\n",
    "print(os.path.abspath('hello.txt'))"
   ]
  },
  {
   "cell_type": "markdown",
   "id": "374284f7-ad6a-44cd-8785-541365999439",
   "metadata": {},
   "source": [
    "These functions can be particularly helpful when using Python to create or modify files used for bioinformatic analysis."
   ]
  },
  {
   "cell_type": "markdown",
   "id": "612c3b37-91b4-4aac-951d-f3ca763fc8ad",
   "metadata": {},
   "source": [
    "---\n",
    "### 1.2 Interfacing with the command line using **`subprocess`**\n",
    "\n",
    "Many bioinformatic software packages are executed through the command line.  \n",
    "For example, `tblastn` can be run using your terminal if you have it installed.\n",
    "\n",
    "Jupyter notebooks have certain \"magic\" functions of cells that can allow you to run specific command line functions directly through your notebook.\n",
    "\n",
    "For example, basic commands such as `ls` or `pwd` can be run when typed directly into a cell."
   ]
  },
  {
   "cell_type": "code",
   "execution_count": 6,
   "id": "71f21da5-10ff-46cf-b7f4-bb75bce1f63d",
   "metadata": {},
   "outputs": [
    {
     "name": "stdout",
     "output_type": "stream",
     "text": [
      "hello.txt  lesson.ipynb  practice2.txt\n"
     ]
    }
   ],
   "source": [
    "ls"
   ]
  },
  {
   "cell_type": "code",
   "execution_count": 7,
   "id": "5a58a746-42ab-4815-9f86-393b8f4c5754",
   "metadata": {},
   "outputs": [
    {
     "data": {
      "text/plain": [
       "'/home/ec2-user/arcadia-computational-training/docs/arcadia-users-group/20230314-intro-to-python-3'"
      ]
     },
     "execution_count": 7,
     "metadata": {},
     "output_type": "execute_result"
    }
   ],
   "source": [
    "pwd"
   ]
  },
  {
   "cell_type": "markdown",
   "id": "6355f5ea-0afd-44a5-a78c-7343410376ef",
   "metadata": {},
   "source": [
    "However, not all command line functions can be accessed in this way.  \n",
    "For example, you can't use the `which` utility using Jupyter magic - you'll get an error instead."
   ]
  },
  {
   "cell_type": "code",
   "execution_count": 8,
   "id": "78bb6d35-53d1-43e1-9695-692786e8de73",
   "metadata": {},
   "outputs": [
    {
     "ename": "SyntaxError",
     "evalue": "invalid syntax (1722139382.py, line 1)",
     "output_type": "error",
     "traceback": [
      "\u001b[0;36m  Cell \u001b[0;32mIn[8], line 1\u001b[0;36m\u001b[0m\n\u001b[0;31m    which python\u001b[0m\n\u001b[0m          ^\u001b[0m\n\u001b[0;31mSyntaxError\u001b[0m\u001b[0;31m:\u001b[0m invalid syntax\n"
     ]
    }
   ],
   "source": [
    "which python"
   ]
  },
  {
   "cell_type": "markdown",
   "id": "15c29c60-3426-4f4e-86c8-a1ab3d74e702",
   "metadata": {},
   "source": [
    "For commands that aren't compatible with this approach, you can use a different type of Jupyter magic syntax using the exclamation point operand `!`."
   ]
  },
  {
   "cell_type": "code",
   "execution_count": 9,
   "id": "72d6cb88-7900-4ab2-878c-e28f4fa3e51c",
   "metadata": {},
   "outputs": [
    {
     "name": "stdout",
     "output_type": "stream",
     "text": [
      "/home/ec2-user/miniconda3/envs/GeneFinder/bin/python\n"
     ]
    }
   ],
   "source": [
    "!which python"
   ]
  },
  {
   "cell_type": "markdown",
   "id": "aafa08ee-1b0b-4bdd-bee5-10701fc1d74d",
   "metadata": {},
   "source": [
    "This can be really nice when you plan on programming interactively.  \n",
    "However, using the exclamation point Jupyter magic doesn't translate well if you were to convert your Jupyter notebook into a Python script.  \n",
    "The details aren't important for this workshop, but if you were to try to use the exclamation point operator, you'd have to rewrite some of your code, which is never fun!  \n",
    "\n",
    "Instead of relying Jupyter magic, we generally recommend using the package **`subprocess`**, which passes commands from Python into the shell."
   ]
  },
  {
   "cell_type": "code",
   "execution_count": 10,
   "id": "61505fb5-9696-40f8-967c-2642ca3ff457",
   "metadata": {},
   "outputs": [
    {
     "name": "stdout",
     "output_type": "stream",
     "text": [
      "/home/ec2-user/miniconda3/envs/GeneFinder/bin/python\n"
     ]
    },
    {
     "data": {
      "text/plain": [
       "CompletedProcess(args=['which', 'python'], returncode=0)"
      ]
     },
     "execution_count": 10,
     "metadata": {},
     "output_type": "execute_result"
    }
   ],
   "source": [
    "import subprocess\n",
    "\n",
    "subprocess.run(['which', 'python'])"
   ]
  },
  {
   "cell_type": "markdown",
   "id": "c3675cbd-939b-45ef-a216-1732fa304218",
   "metadata": {},
   "source": [
    "The code above runs the same as `!which python`.  \n",
    "`subprocess.run` passes each element of a list as an argument to the shell. \n",
    "\n",
    "It's unfortunately not as tidy looking, but it does allow for more robust code that can be converted to Python packages or functions without rewriting!"
   ]
  },
  {
   "cell_type": "markdown",
   "id": "a33d0f98-d713-4007-b96d-2196ba8fd3ea",
   "metadata": {},
   "source": [
    "---\n",
    "### 1.3 **`math`** ematics\n",
    "\n",
    "The built-in **`math`** package can perform some useful mathematical operations."
   ]
  },
  {
   "cell_type": "code",
   "execution_count": 11,
   "id": "c52feb6a-39ce-49a7-b636-0d2b4a9adf79",
   "metadata": {},
   "outputs": [
    {
     "name": "stdout",
     "output_type": "stream",
     "text": [
      "0.6931471805599453\n",
      "2.0\n",
      "6\n"
     ]
    }
   ],
   "source": [
    "import math\n",
    "\n",
    "# Take the natural logarithm of a number\n",
    "print(math.log(2))\n",
    "\n",
    "# Take the square root of a number\n",
    "print(math.sqrt(4))\n",
    "\n",
    "# Get the factorial of a number\n",
    "print(math.factorial(3))"
   ]
  },
  {
   "cell_type": "markdown",
   "id": "01228990-8a38-485e-8c9b-3dfd2a0b8abb",
   "metadata": {},
   "source": [
    "In addition to its many functions, **`math`** also includes hard-coded values such as:"
   ]
  },
  {
   "cell_type": "code",
   "execution_count": 12,
   "id": "0f9715a8-6e21-488f-85d6-f4b761af540d",
   "metadata": {},
   "outputs": [
    {
     "name": "stdout",
     "output_type": "stream",
     "text": [
      "3.141592653589793\n",
      "2.718281828459045\n"
     ]
    }
   ],
   "source": [
    "print(math.pi)\n",
    "\n",
    "print(math.e)"
   ]
  },
  {
   "cell_type": "markdown",
   "id": "d278a9b7-2413-4562-ab80-982ff0d96c3b",
   "metadata": {},
   "source": [
    "Packages can thus be used to distribute specific numbers in addition to helpful functions!"
   ]
  },
  {
   "cell_type": "markdown",
   "id": "098289ae-151f-4a60-a53e-99b891150254",
   "metadata": {
    "tags": []
   },
   "source": [
    "---\n",
    "## P1. Practice\n",
    "\n",
    "Let's try using some Python packages to do useful things.\n",
    "\n",
    "> ### Practice 1\n",
    "> Using a `for` loop, create a directory called `testfiles/` in the current directory and populate it with empty files numbered `file1.txt` to `file5.txt`\n",
    ">\n",
    "> **Hint:** The command-line tool `touch` creates an empty file. Its syntax is `touch filename`.\n",
    "\n",
    "<details>\n",
    "<summary> Practice 1 Sample Answer </summary>\n",
    "    <br>\n",
    "    <pre><code><b>import</b> subprocess\n",
    "<b>import</b> os\n",
    "\n",
    "numbers = [1, 2, 3, 4, 5]\n",
    "\n",
    "destination = 'testfiles/'\n",
    "os.mkdir(destination)\n",
    "\n",
    "<b>for</b> number <b>in</b> numbers:\n",
    "    filename = 'file' + str(number) + '.txt'\n",
    "    subprocess.run(['touch', destination + filename])\n",
    "</code></pre>\n",
    "</details>"
   ]
  },
  {
   "cell_type": "code",
   "execution_count": 13,
   "id": "2d86f0c9-c0fc-4c63-befd-219adb5d37cb",
   "metadata": {},
   "outputs": [
    {
     "name": "stdout",
     "output_type": "stream",
     "text": [
      "False\n"
     ]
    }
   ],
   "source": [
    "###############################################\n",
    "##### Write your code in the space below. #####\n",
    "#### Then run the cell to check your work. ####\n",
    "\n",
    "\n",
    "\n",
    "###############################################\n",
    "\n",
    "# Prints 'True' if all files exist, else False.\n",
    "# This checker uses a special syntax called a List Comprehension.\n",
    "# You don't need to understand this yet, but if you're curious, feel free to ask!\n",
    "filenames = ['testfiles/file' + str(num) + '.txt' for num in [1, 2, 3, 4, 5]]\n",
    "print(all([os.path.exists(file) for file in filenames]))"
   ]
  },
  {
   "cell_type": "markdown",
   "id": "56386c71-324a-4f27-adaa-77bc1b7e8edb",
   "metadata": {},
   "source": [
    "---\n",
    "## 2. Opening files with `open()`\n",
    "\n",
    "You've created some empty files in the exercise above, but what if you actually wanted to open files?\n",
    "\n",
    "Python has a built-in function, `open()`, which allows for direct file handling."
   ]
  },
  {
   "cell_type": "code",
   "execution_count": 14,
   "id": "20df61e6-8623-4c9d-a039-5d44066da774",
   "metadata": {},
   "outputs": [],
   "source": [
    "file = open('hello.txt')"
   ]
  },
  {
   "cell_type": "markdown",
   "id": "28801bae-01a1-424f-af4b-ee5108fe23e0",
   "metadata": {},
   "source": [
    "The `open()` function doesn't print anything - it actually is a data type called `_io.TextIOWrapper`."
   ]
  },
  {
   "cell_type": "code",
   "execution_count": 15,
   "id": "eaf2f8a8-eea2-43a0-a868-e506768b1e6d",
   "metadata": {},
   "outputs": [
    {
     "data": {
      "text/plain": [
       "_io.TextIOWrapper"
      ]
     },
     "execution_count": 15,
     "metadata": {},
     "output_type": "execute_result"
    }
   ],
   "source": [
    "type(file)"
   ]
  },
  {
   "cell_type": "markdown",
   "id": "2e6d4176-3272-412e-8a57-bacc1d78f9cd",
   "metadata": {},
   "source": [
    "This particular data type has certain methods, such as `.read()`, which reads each element of the file character by character."
   ]
  },
  {
   "cell_type": "code",
   "execution_count": 16,
   "id": "41b5a749-51a1-4e78-b6c0-0f7ab9660e40",
   "metadata": {},
   "outputs": [
    {
     "data": {
      "text/plain": [
       "'Hello\\nworld\\nmy\\nname\\nis\\nGuido'"
      ]
     },
     "execution_count": 16,
     "metadata": {},
     "output_type": "execute_result"
    }
   ],
   "source": [
    "file.read()"
   ]
  },
  {
   "cell_type": "markdown",
   "id": "5ae405ef-5e45-4917-a0eb-27f9e41218ff",
   "metadata": {},
   "source": [
    "You can see that calling `.read()` returns a `str` which is every character in the file in order.  \n",
    "This would probably not be a practical way of dealing with a very large file, and is certainly quite a clunky interface.  \n",
    "\n",
    "You can improve this slightly by using the `.readlines()` method. This splits the file into a list, using a linebreak."
   ]
  },
  {
   "cell_type": "code",
   "execution_count": 17,
   "id": "222f9c07-5fd4-47a7-a5f2-2b479adca4c1",
   "metadata": {},
   "outputs": [
    {
     "data": {
      "text/plain": [
       "['Hello\\n', 'world\\n', 'my\\n', 'name\\n', 'is\\n', 'Guido']"
      ]
     },
     "execution_count": 17,
     "metadata": {},
     "output_type": "execute_result"
    }
   ],
   "source": [
    "file = open('hello.txt')\n",
    "file.readlines()"
   ]
  },
  {
   "cell_type": "markdown",
   "id": "de710a36-fdc7-408b-9918-df1680512b49",
   "metadata": {},
   "source": [
    "Another somewhat annoying aspect of this approach is that you also always have to `.close()` a file when you're done with it, or you can run into all sorts of weird errors.\n",
    "\n",
    "For example, if we try to read the file again without closing it, we get an empty list."
   ]
  },
  {
   "cell_type": "code",
   "execution_count": 18,
   "id": "d4f0f822-84eb-41ca-a387-eb0ed9c4675b",
   "metadata": {},
   "outputs": [
    {
     "data": {
      "text/plain": [
       "[]"
      ]
     },
     "execution_count": 18,
     "metadata": {},
     "output_type": "execute_result"
    }
   ],
   "source": [
    "file.readlines()"
   ]
  },
  {
   "cell_type": "markdown",
   "id": "93fb322a-a121-4870-90d9-c423fc0898ac",
   "metadata": {},
   "source": [
    "To read the file in a different way, we have to `.close()` it and then `open()` it again."
   ]
  },
  {
   "cell_type": "code",
   "execution_count": 19,
   "id": "5c13af79-a8b1-46f6-8472-be7c3af56c8a",
   "metadata": {},
   "outputs": [
    {
     "name": "stdout",
     "output_type": "stream",
     "text": [
      "['Hello\\n', 'world\\n', 'my\\n', 'name\\n', 'is\\n', 'Guido']\n"
     ]
    }
   ],
   "source": [
    "file.close()\n",
    "\n",
    "file = open('hello.txt')\n",
    "print(file.readlines())\n",
    "\n",
    "file.close()"
   ]
  },
  {
   "cell_type": "markdown",
   "id": "73e67801-a470-4539-90bd-c1f5fa7dc81d",
   "metadata": {},
   "source": [
    "---\n",
    "### 2.1 Opening files more easily using **`with`**\n",
    "\n",
    "Because of these quirks of Python's file handling using `open()`, the preferred way of loading files is using a **`with`** statement.\n",
    "\n",
    "This statement works similarly to **`try` - `except` - `finally`** but is mostly used for file streaming."
   ]
  },
  {
   "cell_type": "code",
   "execution_count": 20,
   "id": "cb75e0c1-2259-4cc0-a238-3e1eca736de3",
   "metadata": {},
   "outputs": [
    {
     "name": "stdout",
     "output_type": "stream",
     "text": [
      "['Hello\\n', 'world\\n', 'my\\n', 'name\\n', 'is\\n', 'Guido']\n"
     ]
    }
   ],
   "source": [
    "with open('hello.txt') as file:\n",
    "    output = file.readlines()\n",
    "    \n",
    "print(output)"
   ]
  },
  {
   "cell_type": "markdown",
   "id": "78d1e48a-23f0-4967-8195-1908b85322ac",
   "metadata": {},
   "source": [
    "The **`with`** statement is a special kind of statement that does some stuff in the background to automatically `.close()` your file when the code block completes.  \n",
    "If you're curious, [this tutorial](https://www.freecodecamp.org/news/with-open-in-python-with-statement-syntax-example/) gives some more explanation, but we won't go into the details here.  \n",
    "\n",
    "---\n",
    "### 2.2 Writing to files\n",
    "\n",
    "We've seen how you can pull information out of an existing file and pass it as a string or list.  \n",
    "But what if you have data that you've generated or loaded in Python and want to actually **save** that information to a file?\n",
    "\n",
    "You can also use `with open()` for this as well."
   ]
  },
  {
   "cell_type": "code",
   "execution_count": 21,
   "id": "156e1406-5476-4eb4-a02e-59d7d165a66b",
   "metadata": {},
   "outputs": [],
   "source": [
    "my_text = \"Let's see if this works...\"\n",
    "\n",
    "with open('newfile.txt', 'w') as file:\n",
    "    file.write(my_text)"
   ]
  },
  {
   "cell_type": "markdown",
   "id": "8766a098-ede0-414a-b0e1-c8dad4fbd336",
   "metadata": {},
   "source": [
    "The difference between `read()`ing a file and `write()`ing a file comes from the `'w'` argument we passed to the `open()` function. \n",
    "\n",
    "The `open()` function actually accepts two arguments:\n",
    "- `file`: the path to the file you're opening\n",
    "- `mode`: how you're opening the file.  \n",
    "    This is `'r'` or **read** by default - if you want to be able to **write** to file, you use `'w'`.  \n",
    "    To be able to both **read _and_ write**, you use `'w+'`.\n",
    "    \n",
    "Let's check whether our file contains the expected text."
   ]
  },
  {
   "cell_type": "code",
   "execution_count": 22,
   "id": "2e7f112b-8b67-41dc-ac3e-2e9456f75ab7",
   "metadata": {},
   "outputs": [
    {
     "data": {
      "text/plain": [
       "Let's see if this works..."
      ]
     },
     "metadata": {},
     "output_type": "display_data"
    }
   ],
   "source": [
    "less newfile.txt"
   ]
  },
  {
   "cell_type": "markdown",
   "id": "adfed659-e8c8-4316-8217-ae81ec6942ba",
   "metadata": {},
   "source": [
    "Using the Jupyter magic command `less`, we can preview the file we just created. This seems to have worked!\n",
    "\n",
    "What about if we wanted to write not just a single string, but a list of strings, separated each by a line break?"
   ]
  },
  {
   "cell_type": "code",
   "execution_count": 23,
   "id": "01c15708-eaef-4adf-8849-ca3a3428c222",
   "metadata": {},
   "outputs": [
    {
     "ename": "TypeError",
     "evalue": "write() argument must be str, not list",
     "output_type": "error",
     "traceback": [
      "\u001b[0;31m---------------------------------------------------------------------------\u001b[0m",
      "\u001b[0;31mTypeError\u001b[0m                                 Traceback (most recent call last)",
      "Cell \u001b[0;32mIn[23], line 4\u001b[0m\n\u001b[1;32m      1\u001b[0m my_text_list \u001b[38;5;241m=\u001b[39m [\u001b[38;5;124m'\u001b[39m\u001b[38;5;124mLorem\u001b[39m\u001b[38;5;124m'\u001b[39m, \u001b[38;5;124m'\u001b[39m\u001b[38;5;124mipsum\u001b[39m\u001b[38;5;124m'\u001b[39m, \u001b[38;5;124m'\u001b[39m\u001b[38;5;124mdolor\u001b[39m\u001b[38;5;124m'\u001b[39m, \u001b[38;5;124m'\u001b[39m\u001b[38;5;124msit\u001b[39m\u001b[38;5;124m'\u001b[39m, \u001b[38;5;124m'\u001b[39m\u001b[38;5;124mamet\u001b[39m\u001b[38;5;124m'\u001b[39m]\n\u001b[1;32m      3\u001b[0m \u001b[38;5;28;01mwith\u001b[39;00m \u001b[38;5;28mopen\u001b[39m(\u001b[38;5;124m'\u001b[39m\u001b[38;5;124mnewfile2.txt\u001b[39m\u001b[38;5;124m'\u001b[39m, \u001b[38;5;124m'\u001b[39m\u001b[38;5;124mw\u001b[39m\u001b[38;5;124m'\u001b[39m) \u001b[38;5;28;01mas\u001b[39;00m file:\n\u001b[0;32m----> 4\u001b[0m     \u001b[43mfile\u001b[49m\u001b[38;5;241;43m.\u001b[39;49m\u001b[43mwrite\u001b[49m\u001b[43m(\u001b[49m\u001b[43mmy_text_list\u001b[49m\u001b[43m)\u001b[49m\n",
      "\u001b[0;31mTypeError\u001b[0m: write() argument must be str, not list"
     ]
    }
   ],
   "source": [
    "my_text_list = ['Lorem', 'ipsum', 'dolor', 'sit', 'amet']\n",
    "\n",
    "with open('newfile2.txt', 'w') as file:\n",
    "    file.write(my_text_list)"
   ]
  },
  {
   "cell_type": "markdown",
   "id": "e2eff5c2-1923-4e6e-be80-f24271e6e639",
   "metadata": {
    "tags": []
   },
   "source": [
    "You'll see that the code above returns a `TypeError: write() argument must be str, not list`.  \n",
    "We can't pass the variable `my_text_list` to `write()` because it's not a list!\n",
    "\n",
    "Rather than explaining exactly how to solve this problem, why don't we **practice** figuring out how to solve the problem?\n",
    "\n",
    "---\n",
    "## P2. Practice\n",
    "\n",
    "Let's practice figuring out how to do something in Python!  \n",
    "\n",
    "> ### Practice 2\n",
    "> You want to be able to write a list to a file, with each element of the list on a different line in the file.  \n",
    "> Figure out how to write the list `practice_list` to a file called `practice2.txt`.  \n",
    ">\n",
    "> You can already solve this problem with what we've learned, but there are many possible ways to deal with this issue.  \n",
    "> Try to figure out on your own how you might overcome this problem.\n",
    ">\n",
    "> **Tip:** Search engines such as **Google** are your friend in this situation! Try looking for help on websites like [StackOverflow](https://stackoverflow.com/questions/tagged/python), [W3Schools](https://www.w3schools.com/python/default.asp), or [Real Python](https://realpython.com/tutorials/basics/).  \n",
    "> A huge part of learning how to program is also learning how to search for the solutions to your own programming problems.\n",
    "\n",
    "\n",
    "<details>\n",
    "<summary> Practice 2 Sample Answer A </summary>\n",
    "    <br>\n",
    "    <b>Using <code>file.writelines()</code>:</b>\n",
    "    <br><br>\n",
    "    <pre><code>new_list = []\n",
    "<b>for</b> word <b>in</b> practice_list:\n",
    "    new_list.append(word + '\\n')\n",
    "<b>with</b> open('practice2.txt', 'w+') <b>as</b> file:\n",
    "    file.writelines(new_list)\n",
    "    </code></pre>\n",
    "</details>\n",
    "\n",
    "<details>\n",
    "    <summary> Practice 2 Sample Answer B </summary>\n",
    "    <br>\n",
    "    <b>Using a <code>for</code> loop with <code>file.write()</code>:</b>\n",
    "    <br><br>\n",
    "    <pre><code><b>with</b> open('practice2.txt', 'w+') as file:\n",
    "    <b>for</b> word <b>in</b> practice_list:\n",
    "        file.write(word)\n",
    "        file.write('\\n')\n",
    "    </code></pre>\n",
    "</details>"
   ]
  },
  {
   "cell_type": "code",
   "execution_count": 26,
   "id": "7e8b330c-d63d-43d4-98f8-ef40015e77f3",
   "metadata": {},
   "outputs": [
    {
     "name": "stdout",
     "output_type": "stream",
     "text": [
      "We\n",
      "can\n",
      "solve\n",
      "Python\n",
      "problems\n",
      "ourselves\n",
      "\n"
     ]
    }
   ],
   "source": [
    "practice_list = ['We', 'can', 'solve', 'Python', 'problems', 'ourselves']\n",
    "\n",
    "###############################################\n",
    "##### Write your code in the space below. #####\n",
    "#### Then run the cell to check your work. ####\n",
    "\n",
    "\n",
    "\n",
    "\n",
    "###############################################\n",
    "\n",
    "with open('practice2.txt', 'r') as file:\n",
    "    print(file.read())"
   ]
  },
  {
   "cell_type": "markdown",
   "id": "6c038ad0-af60-4372-bb90-1524d1579810",
   "metadata": {},
   "source": [
    "---\n",
    "## 3. Installed Packages\n",
    "\n",
    "One of the awesome things about Python is the large community of other programmers – software engineers, scientists, hobbyists - who are also building functions using Python. Many of these folks share their work through Python **packages** (also sometimes referred to as **libraries**).  \n",
    "\n",
    "Today we'll have a whirlwind tour about how to import and use some of the more commonly-used packages. We won't cover how to install these packages - many can be installed using **`mamba`**, which is our preferred way of managing software installation. Check out this [AUG training session](https://training.arcadiascience.com/arcadia-users-group/20221017-conda/lesson/) on **`conda`** and **`mamba`** for more. \n",
    "\n",
    "We'll be blazing through these examples, so don't worry if you don't understand all of the code in each cell - this is mostly to show you how many different kinds of things you can do with Python packages.\n",
    "\n",
    "---\n",
    "### 3.1 Plotting with **`matplotlib`**\n",
    "\n",
    "Presenting data in a visual format often helps us make decisions or communicate our results.  \n",
    "A popular Python package for making plots is **`matplotlib`**.\n",
    "\n",
    "Below, we use the module **`matplotlib.pyplot`** to plot some data using `x` and `y` coordinates."
   ]
  },
  {
   "cell_type": "code",
   "execution_count": 133,
   "id": "45f295c4-adac-45b4-a5c1-e5088e324d85",
   "metadata": {},
   "outputs": [
    {
     "data": {
      "image/png": "[encoded data removed]",
      "text/plain": [
       "<Figure size 640x480 with 1 Axes>"
      ]
     },
     "metadata": {},
     "output_type": "display_data"
    }
   ],
   "source": [
    "import matplotlib.pyplot as plt\n",
    "\n",
    "x = [1, 2, 3.5, 4.4, 6]\n",
    "y = [5, 4, 4.1, 3, 3.8]\n",
    "\n",
    "plt.plot(x, y)\n",
    "plt.show()"
   ]
  },
  {
   "cell_type": "markdown",
   "id": "06936fe2-2f35-42c6-b8ce-5054c67450f6",
   "metadata": {},
   "source": [
    "You'll notice that rather than simply using `import matplotlib.pyplot`, we added an `as plt` expression to the end of our import statement.  \n",
    "Python allows you to import packages using aliases.  \n",
    "This saves you from having to type out `matplotlib.pyplot.plot()` and shortens the expression to `plt.plot()`.  \n",
    "\n",
    "Package documentation examples often gives you a suggestion for how you might abbreviate packages for others to be able to understand.  \n",
    "The base `matplotlib` package, for example, is often abbreviated as `mpl`.  \n",
    "You'll see additional examples of this in the other examples we'll look at.\n",
    "\n",
    "---\n",
    "### 3.2 Modifying a **`matplotlib`** plot\n",
    "\n",
    "So, we've plotted a basic line plot. But what do the axes mean? And why is it so large - can we make it smaller?  \n",
    "**`matplotlib`** is a popular package for plotting because you can customize essentially every single aspect of any plot you make.  \n",
    "\n",
    "See the comments below for an example of a more customized plot."
   ]
  },
  {
   "cell_type": "code",
   "execution_count": 134,
   "id": "b3a7e8fb-9d64-4bdf-87ff-a5cf3d3a9aec",
   "metadata": {},
   "outputs": [
    {
     "data": {
      "image/png": "[encoded data removed]",
      "text/plain": [
       "<Figure size 300x200 with 1 Axes>"
      ]
     },
     "metadata": {},
     "output_type": "display_data"
    }
   ],
   "source": [
    "import matplotlib.pyplot as plt\n",
    "\n",
    "x = [1, 2, 3.5, 4.4, 6]\n",
    "y = [5, 4, 4.1, 3, 3.8]\n",
    "\n",
    "# You can establish a figure and set the figure size prior to plotting.\n",
    "plt.figure(figsize = (3, 2)) \n",
    "\n",
    "# You can change the background color of your plot\n",
    "ax = plt.axes()\n",
    "ax.set_facecolor(\"xkcd:midnight\") # matplotlib recognizes a variety of color names\n",
    "\n",
    "plt.plot(x, y, c = 'c', linestyle = '-') # You can change the color (c) to cyan using 'c'. You can also set a dashed ('-') linestyle.\n",
    "\n",
    "# If you call another plotting function without creating a new figure, you can plot again on the same plot.\n",
    "plt.scatter(x, y, c = 'w', marker = '*', s = 50) # For a scatter plot, you can choose color (c), marker style, and marker size (s).\n",
    "\n",
    "# You can set the specific x and y limits of your plot\n",
    "plt.xlim(0.5, 6.5)\n",
    "plt.ylim(2.5, 5.5)\n",
    "\n",
    "# You can have matplotlib show a grid, and choose its color\n",
    "plt.grid(c = 'b')\n",
    "\n",
    "# You can label the x and y axes of the plot\n",
    "plt.xlabel('longitude')\n",
    "plt.ylabel('latitude')\n",
    "\n",
    "# You can add a title to the plot\n",
    "plt.title('Casseiopeia')\n",
    "\n",
    "plt.show()"
   ]
  },
  {
   "cell_type": "markdown",
   "id": "32031731-8670-4851-9297-1a67dae5ebd6",
   "metadata": {},
   "source": [
    "This example only scratches the barest surface of what you can do with **`plt`**.  \n",
    "Future workshops will dive into deeper detail about how **`matplotlib`** works and what you can do with it."
   ]
  },
  {
   "cell_type": "markdown",
   "id": "7d62e3a5-7e92-43d2-bf4d-7c3f14b90d93",
   "metadata": {
    "tags": []
   },
   "source": [
    "---\n",
    "### 3.3 Working with `DataFrame`s using **`pandas`**\n",
    "\n",
    "A popular package for dealing with tabular data like `.tsv` and `.csv` files is **`pandas`**.  \n",
    "You can use **`pandas`** to load files and perform all manner of database manipulations using `DataFrame` data structures."
   ]
  },
  {
   "cell_type": "code",
   "execution_count": 138,
   "id": "d66b30f8-7353-47e8-88eb-e0a87c7e1b11",
   "metadata": {},
   "outputs": [
    {
     "data": {
      "text/html": [
       "<div>\n",
       "<style scoped>\n",
       "    .dataframe tbody tr th:only-of-type {\n",
       "        vertical-align: middle;\n",
       "    }\n",
       "\n",
       "    .dataframe tbody tr th {\n",
       "        vertical-align: top;\n",
       "    }\n",
       "\n",
       "    .dataframe thead th {\n",
       "        text-align: right;\n",
       "    }\n",
       "</style>\n",
       "<table border=\"1\" class=\"dataframe\">\n",
       "  <thead>\n",
       "    <tr style=\"text-align: right;\">\n",
       "      <th></th>\n",
       "      <th>LatD</th>\n",
       "      <th>LatM</th>\n",
       "      <th>LatS</th>\n",
       "      <th>NS</th>\n",
       "      <th>LonD</th>\n",
       "      <th>LonM</th>\n",
       "      <th>LonS</th>\n",
       "      <th>EW</th>\n",
       "      <th>City</th>\n",
       "      <th>State</th>\n",
       "    </tr>\n",
       "  </thead>\n",
       "  <tbody>\n",
       "    <tr>\n",
       "      <th>0</th>\n",
       "      <td>41</td>\n",
       "      <td>5</td>\n",
       "      <td>59</td>\n",
       "      <td>N</td>\n",
       "      <td>80</td>\n",
       "      <td>39</td>\n",
       "      <td>0</td>\n",
       "      <td>W</td>\n",
       "      <td>Youngstown</td>\n",
       "      <td>OH</td>\n",
       "    </tr>\n",
       "    <tr>\n",
       "      <th>1</th>\n",
       "      <td>42</td>\n",
       "      <td>52</td>\n",
       "      <td>48</td>\n",
       "      <td>N</td>\n",
       "      <td>97</td>\n",
       "      <td>23</td>\n",
       "      <td>23</td>\n",
       "      <td>W</td>\n",
       "      <td>Yankton</td>\n",
       "      <td>SD</td>\n",
       "    </tr>\n",
       "    <tr>\n",
       "      <th>2</th>\n",
       "      <td>46</td>\n",
       "      <td>35</td>\n",
       "      <td>59</td>\n",
       "      <td>N</td>\n",
       "      <td>120</td>\n",
       "      <td>30</td>\n",
       "      <td>36</td>\n",
       "      <td>W</td>\n",
       "      <td>Yakima</td>\n",
       "      <td>WA</td>\n",
       "    </tr>\n",
       "    <tr>\n",
       "      <th>3</th>\n",
       "      <td>42</td>\n",
       "      <td>16</td>\n",
       "      <td>12</td>\n",
       "      <td>N</td>\n",
       "      <td>71</td>\n",
       "      <td>48</td>\n",
       "      <td>0</td>\n",
       "      <td>W</td>\n",
       "      <td>Worcester</td>\n",
       "      <td>MA</td>\n",
       "    </tr>\n",
       "    <tr>\n",
       "      <th>4</th>\n",
       "      <td>43</td>\n",
       "      <td>37</td>\n",
       "      <td>48</td>\n",
       "      <td>N</td>\n",
       "      <td>89</td>\n",
       "      <td>46</td>\n",
       "      <td>11</td>\n",
       "      <td>W</td>\n",
       "      <td>WisconsinDells</td>\n",
       "      <td>WI</td>\n",
       "    </tr>\n",
       "    <tr>\n",
       "      <th>...</th>\n",
       "      <td>...</td>\n",
       "      <td>...</td>\n",
       "      <td>...</td>\n",
       "      <td>...</td>\n",
       "      <td>...</td>\n",
       "      <td>...</td>\n",
       "      <td>...</td>\n",
       "      <td>...</td>\n",
       "      <td>...</td>\n",
       "      <td>...</td>\n",
       "    </tr>\n",
       "    <tr>\n",
       "      <th>123</th>\n",
       "      <td>39</td>\n",
       "      <td>31</td>\n",
       "      <td>12</td>\n",
       "      <td>N</td>\n",
       "      <td>119</td>\n",
       "      <td>48</td>\n",
       "      <td>35</td>\n",
       "      <td>W</td>\n",
       "      <td>Reno</td>\n",
       "      <td>NV</td>\n",
       "    </tr>\n",
       "    <tr>\n",
       "      <th>124</th>\n",
       "      <td>50</td>\n",
       "      <td>25</td>\n",
       "      <td>11</td>\n",
       "      <td>N</td>\n",
       "      <td>104</td>\n",
       "      <td>39</td>\n",
       "      <td>0</td>\n",
       "      <td>W</td>\n",
       "      <td>Regina</td>\n",
       "      <td>SA</td>\n",
       "    </tr>\n",
       "    <tr>\n",
       "      <th>125</th>\n",
       "      <td>40</td>\n",
       "      <td>10</td>\n",
       "      <td>48</td>\n",
       "      <td>N</td>\n",
       "      <td>122</td>\n",
       "      <td>14</td>\n",
       "      <td>23</td>\n",
       "      <td>W</td>\n",
       "      <td>RedBluff</td>\n",
       "      <td>CA</td>\n",
       "    </tr>\n",
       "    <tr>\n",
       "      <th>126</th>\n",
       "      <td>40</td>\n",
       "      <td>19</td>\n",
       "      <td>48</td>\n",
       "      <td>N</td>\n",
       "      <td>75</td>\n",
       "      <td>55</td>\n",
       "      <td>48</td>\n",
       "      <td>W</td>\n",
       "      <td>Reading</td>\n",
       "      <td>PA</td>\n",
       "    </tr>\n",
       "    <tr>\n",
       "      <th>127</th>\n",
       "      <td>41</td>\n",
       "      <td>9</td>\n",
       "      <td>35</td>\n",
       "      <td>N</td>\n",
       "      <td>81</td>\n",
       "      <td>14</td>\n",
       "      <td>23</td>\n",
       "      <td>W</td>\n",
       "      <td>Ravenna</td>\n",
       "      <td>OH</td>\n",
       "    </tr>\n",
       "  </tbody>\n",
       "</table>\n",
       "<p>128 rows × 10 columns</p>\n",
       "</div>"
      ],
      "text/plain": [
       "     LatD  LatM  LatS NS  LonD  LonM  LonS EW            City State\n",
       "0      41     5    59  N    80    39     0  W      Youngstown    OH\n",
       "1      42    52    48  N    97    23    23  W         Yankton    SD\n",
       "2      46    35    59  N   120    30    36  W          Yakima    WA\n",
       "3      42    16    12  N    71    48     0  W       Worcester    MA\n",
       "4      43    37    48  N    89    46    11  W  WisconsinDells    WI\n",
       "..    ...   ...   ... ..   ...   ...   ... ..             ...   ...\n",
       "123    39    31    12  N   119    48    35  W            Reno    NV\n",
       "124    50    25    11  N   104    39     0  W          Regina    SA\n",
       "125    40    10    48  N   122    14    23  W        RedBluff    CA\n",
       "126    40    19    48  N    75    55    48  W         Reading    PA\n",
       "127    41     9    35  N    81    14    23  W         Ravenna    OH\n",
       "\n",
       "[128 rows x 10 columns]"
      ]
     },
     "metadata": {},
     "output_type": "display_data"
    }
   ],
   "source": [
    "import pandas as pd\n",
    "\n",
    "df = pd.DataFrame(pd.read_csv('cities.csv'))\n",
    "\n",
    "# The display() function allows us to nicely view tables and other data in Jupyter\n",
    "display(df)"
   ]
  },
  {
   "cell_type": "markdown",
   "id": "54b839a8-3219-4422-9d24-4ddba81c0746",
   "metadata": {},
   "source": [
    "You can use **`pandas`** to do things like:\n",
    "- filter your data to get specific subsets\n",
    "- calculate summaries across specific axes\n",
    "- perform complex manipulations using aggregation"
   ]
  },
  {
   "cell_type": "code",
   "execution_count": 139,
   "id": "16c9bc47-d29a-4998-abbc-27b50716efac",
   "metadata": {},
   "outputs": [
    {
     "data": {
      "text/html": [
       "<div>\n",
       "<style scoped>\n",
       "    .dataframe tbody tr th:only-of-type {\n",
       "        vertical-align: middle;\n",
       "    }\n",
       "\n",
       "    .dataframe tbody tr th {\n",
       "        vertical-align: top;\n",
       "    }\n",
       "\n",
       "    .dataframe thead th {\n",
       "        text-align: right;\n",
       "    }\n",
       "</style>\n",
       "<table border=\"1\" class=\"dataframe\">\n",
       "  <thead>\n",
       "    <tr style=\"text-align: right;\">\n",
       "      <th></th>\n",
       "      <th>LatD</th>\n",
       "      <th>LatM</th>\n",
       "      <th>LatS</th>\n",
       "      <th>NS</th>\n",
       "      <th>LonD</th>\n",
       "      <th>LonM</th>\n",
       "      <th>LonS</th>\n",
       "      <th>EW</th>\n",
       "      <th>City</th>\n",
       "      <th>State</th>\n",
       "    </tr>\n",
       "  </thead>\n",
       "  <tbody>\n",
       "    <tr>\n",
       "      <th>18</th>\n",
       "      <td>41</td>\n",
       "      <td>25</td>\n",
       "      <td>11</td>\n",
       "      <td>N</td>\n",
       "      <td>122</td>\n",
       "      <td>23</td>\n",
       "      <td>23</td>\n",
       "      <td>W</td>\n",
       "      <td>Weed</td>\n",
       "      <td>CA</td>\n",
       "    </tr>\n",
       "    <tr>\n",
       "      <th>59</th>\n",
       "      <td>37</td>\n",
       "      <td>57</td>\n",
       "      <td>35</td>\n",
       "      <td>N</td>\n",
       "      <td>121</td>\n",
       "      <td>17</td>\n",
       "      <td>24</td>\n",
       "      <td>W</td>\n",
       "      <td>Stockton</td>\n",
       "      <td>CA</td>\n",
       "    </tr>\n",
       "    <tr>\n",
       "      <th>85</th>\n",
       "      <td>38</td>\n",
       "      <td>26</td>\n",
       "      <td>23</td>\n",
       "      <td>N</td>\n",
       "      <td>122</td>\n",
       "      <td>43</td>\n",
       "      <td>12</td>\n",
       "      <td>W</td>\n",
       "      <td>SantaRosa</td>\n",
       "      <td>CA</td>\n",
       "    </tr>\n",
       "    <tr>\n",
       "      <th>87</th>\n",
       "      <td>34</td>\n",
       "      <td>25</td>\n",
       "      <td>11</td>\n",
       "      <td>N</td>\n",
       "      <td>119</td>\n",
       "      <td>41</td>\n",
       "      <td>59</td>\n",
       "      <td>W</td>\n",
       "      <td>SantaBarbara</td>\n",
       "      <td>CA</td>\n",
       "    </tr>\n",
       "    <tr>\n",
       "      <th>88</th>\n",
       "      <td>33</td>\n",
       "      <td>45</td>\n",
       "      <td>35</td>\n",
       "      <td>N</td>\n",
       "      <td>117</td>\n",
       "      <td>52</td>\n",
       "      <td>12</td>\n",
       "      <td>W</td>\n",
       "      <td>SantaAna</td>\n",
       "      <td>CA</td>\n",
       "    </tr>\n",
       "    <tr>\n",
       "      <th>89</th>\n",
       "      <td>37</td>\n",
       "      <td>20</td>\n",
       "      <td>24</td>\n",
       "      <td>N</td>\n",
       "      <td>121</td>\n",
       "      <td>52</td>\n",
       "      <td>47</td>\n",
       "      <td>W</td>\n",
       "      <td>SanJose</td>\n",
       "      <td>CA</td>\n",
       "    </tr>\n",
       "    <tr>\n",
       "      <th>90</th>\n",
       "      <td>37</td>\n",
       "      <td>46</td>\n",
       "      <td>47</td>\n",
       "      <td>N</td>\n",
       "      <td>122</td>\n",
       "      <td>25</td>\n",
       "      <td>11</td>\n",
       "      <td>W</td>\n",
       "      <td>SanFrancisco</td>\n",
       "      <td>CA</td>\n",
       "    </tr>\n",
       "    <tr>\n",
       "      <th>92</th>\n",
       "      <td>32</td>\n",
       "      <td>42</td>\n",
       "      <td>35</td>\n",
       "      <td>N</td>\n",
       "      <td>117</td>\n",
       "      <td>9</td>\n",
       "      <td>0</td>\n",
       "      <td>W</td>\n",
       "      <td>SanDiego</td>\n",
       "      <td>CA</td>\n",
       "    </tr>\n",
       "    <tr>\n",
       "      <th>93</th>\n",
       "      <td>34</td>\n",
       "      <td>6</td>\n",
       "      <td>36</td>\n",
       "      <td>N</td>\n",
       "      <td>117</td>\n",
       "      <td>18</td>\n",
       "      <td>35</td>\n",
       "      <td>W</td>\n",
       "      <td>SanBernardino</td>\n",
       "      <td>CA</td>\n",
       "    </tr>\n",
       "    <tr>\n",
       "      <th>98</th>\n",
       "      <td>36</td>\n",
       "      <td>40</td>\n",
       "      <td>11</td>\n",
       "      <td>N</td>\n",
       "      <td>121</td>\n",
       "      <td>39</td>\n",
       "      <td>0</td>\n",
       "      <td>W</td>\n",
       "      <td>Salinas</td>\n",
       "      <td>CA</td>\n",
       "    </tr>\n",
       "    <tr>\n",
       "      <th>110</th>\n",
       "      <td>38</td>\n",
       "      <td>35</td>\n",
       "      <td>24</td>\n",
       "      <td>N</td>\n",
       "      <td>121</td>\n",
       "      <td>29</td>\n",
       "      <td>23</td>\n",
       "      <td>W</td>\n",
       "      <td>Sacramento</td>\n",
       "      <td>CA</td>\n",
       "    </tr>\n",
       "    <tr>\n",
       "      <th>125</th>\n",
       "      <td>40</td>\n",
       "      <td>10</td>\n",
       "      <td>48</td>\n",
       "      <td>N</td>\n",
       "      <td>122</td>\n",
       "      <td>14</td>\n",
       "      <td>23</td>\n",
       "      <td>W</td>\n",
       "      <td>RedBluff</td>\n",
       "      <td>CA</td>\n",
       "    </tr>\n",
       "  </tbody>\n",
       "</table>\n",
       "</div>"
      ],
      "text/plain": [
       "     LatD  LatM  LatS NS  LonD  LonM  LonS EW           City State\n",
       "18     41    25    11  N   122    23    23  W           Weed    CA\n",
       "59     37    57    35  N   121    17    24  W       Stockton    CA\n",
       "85     38    26    23  N   122    43    12  W      SantaRosa    CA\n",
       "87     34    25    11  N   119    41    59  W   SantaBarbara    CA\n",
       "88     33    45    35  N   117    52    12  W       SantaAna    CA\n",
       "89     37    20    24  N   121    52    47  W        SanJose    CA\n",
       "90     37    46    47  N   122    25    11  W   SanFrancisco    CA\n",
       "92     32    42    35  N   117     9     0  W       SanDiego    CA\n",
       "93     34     6    36  N   117    18    35  W  SanBernardino    CA\n",
       "98     36    40    11  N   121    39     0  W        Salinas    CA\n",
       "110    38    35    24  N   121    29    23  W     Sacramento    CA\n",
       "125    40    10    48  N   122    14    23  W       RedBluff    CA"
      ]
     },
     "metadata": {},
     "output_type": "display_data"
    },
    {
     "data": {
      "text/plain": [
       "State\n",
       "CA    12\n",
       "TX     8\n",
       "OH     6\n",
       "WA     6\n",
       "PA     6\n",
       "NY     5\n",
       "FL     5\n",
       "WI     4\n",
       "MO     4\n",
       "GA     4\n",
       "dtype: int64"
      ]
     },
     "metadata": {},
     "output_type": "display_data"
    },
    {
     "data": {
      "text/html": [
       "<div>\n",
       "<style scoped>\n",
       "    .dataframe tbody tr th:only-of-type {\n",
       "        vertical-align: middle;\n",
       "    }\n",
       "\n",
       "    .dataframe tbody tr th {\n",
       "        vertical-align: top;\n",
       "    }\n",
       "\n",
       "    .dataframe thead th {\n",
       "        text-align: right;\n",
       "    }\n",
       "</style>\n",
       "<table border=\"1\" class=\"dataframe\">\n",
       "  <thead>\n",
       "    <tr style=\"text-align: right;\">\n",
       "      <th></th>\n",
       "      <th>City</th>\n",
       "    </tr>\n",
       "    <tr>\n",
       "      <th>State</th>\n",
       "      <th></th>\n",
       "    </tr>\n",
       "  </thead>\n",
       "  <tbody>\n",
       "    <tr>\n",
       "      <th>AL</th>\n",
       "      <td>[Tuscaloosa, Selma]</td>\n",
       "    </tr>\n",
       "    <tr>\n",
       "      <th>AZ</th>\n",
       "      <td>[Tucson]</td>\n",
       "    </tr>\n",
       "    <tr>\n",
       "      <th>BC</th>\n",
       "      <td>[Vancouver]</td>\n",
       "    </tr>\n",
       "    <tr>\n",
       "      <th>CA</th>\n",
       "      <td>[Weed, Stockton, SantaRosa, SantaBarbara, Sant...</td>\n",
       "    </tr>\n",
       "    <tr>\n",
       "      <th>CO</th>\n",
       "      <td>[Trinidad, Sterling, Salida]</td>\n",
       "    </tr>\n",
       "    <tr>\n",
       "      <th>CT</th>\n",
       "      <td>[Waterbury]</td>\n",
       "    </tr>\n",
       "    <tr>\n",
       "      <th>DC</th>\n",
       "      <td>[Washington]</td>\n",
       "    </tr>\n",
       "    <tr>\n",
       "      <th>DE</th>\n",
       "      <td>[Wilmington]</td>\n",
       "    </tr>\n",
       "    <tr>\n",
       "      <th>FL</th>\n",
       "      <td>[WestPalmBeach, Tampa, Tallahassee, Sarasota, ...</td>\n",
       "    </tr>\n",
       "    <tr>\n",
       "      <th>GA</th>\n",
       "      <td>[Waycross, Valdosta, Swainsboro, Savannah]</td>\n",
       "    </tr>\n",
       "  </tbody>\n",
       "</table>\n",
       "</div>"
      ],
      "text/plain": [
       "                                                    City\n",
       "State                                                   \n",
       "AL                                   [Tuscaloosa, Selma]\n",
       "AZ                                              [Tucson]\n",
       "BC                                           [Vancouver]\n",
       "CA     [Weed, Stockton, SantaRosa, SantaBarbara, Sant...\n",
       "CO                          [Trinidad, Sterling, Salida]\n",
       "CT                                           [Waterbury]\n",
       "DC                                          [Washington]\n",
       "DE                                          [Wilmington]\n",
       "FL     [WestPalmBeach, Tampa, Tallahassee, Sarasota, ...\n",
       "GA            [Waycross, Valdosta, Swainsboro, Savannah]"
      ]
     },
     "metadata": {},
     "output_type": "display_data"
    }
   ],
   "source": [
    "# Select only rows where the column 'State' is equal to 'CA'\n",
    "ca_cities = df[df['State'] == 'CA']\n",
    "display(ca_cities)\n",
    "\n",
    "# Summarize the number of cities per state\n",
    "cities_per_state = df.value_counts('State')\n",
    "display(cities_per_state[0:10]) # Display counts for the top 10 states\n",
    "\n",
    "# Get a table that lists the name of each city in each state\n",
    "cities_listed = df[['State', 'City']].groupby('State').agg(lambda x: [i for i in x])\n",
    "display(cities_listed.head(10)) # Display the first 10 states"
   ]
  },
  {
   "cell_type": "markdown",
   "id": "820f42a8-eab6-4744-82ed-60180e024cf7",
   "metadata": {},
   "source": [
    "As you might notice, **`pandas`** can do rather complex operations using relatively few commands.  \n",
    "If you tried to manually build some of these functions, it could be quite challenging!  \n",
    "\n",
    "Hopefully these examples give you a sense of what you can do using Python if you build your skills and become fluent in the language."
   ]
  },
  {
   "cell_type": "code",
   "execution_count": null,
   "id": "4f52a08b-e512-4b5a-b744-10544c0c9e1e",
   "metadata": {},
   "outputs": [],
   "source": []
  }
 ],
 "metadata": {
  "kernelspec": {
   "display_name": "Python 3 (ipykernel)",
   "language": "python",
   "name": "python3"
  },
  "language_info": {
   "codemirror_mode": {
    "name": "ipython",
    "version": 3
   },
   "file_extension": ".py",
   "mimetype": "text/x-python",
   "name": "python",
   "nbconvert_exporter": "python",
   "pygments_lexer": "ipython3",
   "version": "3.11.0"
  }
 },
 "nbformat": 4,
 "nbformat_minor": 5
}
